{
 "cells": [
  {
   "cell_type": "markdown",
   "metadata": {},
   "source": [
    "## Final Project Submission\n",
    "\n",
    "\n",
    "Please fill out:\n",
    "* Student name: Leshmi Jayakumar\n",
    "* Student pace: Part time \n",
    "* Scheduled project review date/time: 26/02/2023\n",
    "* Instructor name: Hardik Idnani\n",
    "\n"
   ]
  },
  {
   "cell_type": "code",
   "execution_count": 1,
   "metadata": {},
   "outputs": [],
   "source": [
    "import pandas as pd\n",
    "import numpy as np\n",
    "import matplotlib.pyplot as plt\n",
    "import seaborn as sns\n",
    "\n",
    "# Ignores warnings\n",
    "import warnings\n",
    "warnings.filterwarnings('ignore')\n",
    "import statsmodels.api as sm\n",
    "import statsmodels.formula.api as smf\n",
    "import scipy.stats as stats\n",
    "import statsmodels.stats.api as sms\n",
    "from statsmodels.formula.api import ols\n",
    "import pylab\n",
    "\n",
    "from sklearn.model_selection import train_test_split\n",
    "from sklearn.linear_model import LinearRegression\n",
    "from sklearn.preprocessing import MinMaxScaler\n",
    "from sklearn.metrics import mean_squared_error\n",
    "from sklearn.metrics import mean_squared_error, make_scorer\n",
    "from sklearn.model_selection import cross_val_score\n",
    "from sklearn import metrics\n",
    "\n",
    "\n"
   ]
  },
  {
   "cell_type": "markdown",
   "metadata": {},
   "source": [
    "### Column Names and descriptions for Insurance Data Set\n",
    "\n",
    "age: age of primary beneficiary\n",
    "\n",
    "sex: insurance contractor gender, female, male\n",
    "\n",
    "bmi: Body mass index, providing an understanding of body, weights that are relatively high or low relative to height,\n",
    "objective index of body weight (kg / m ^ 2) using the ratio of height to weight, ideally 18.5 to 24.9\n",
    "\n",
    "children: Number of children covered by health insurance / Number of dependents\n",
    "\n",
    "smoker: Smoking\n",
    "\n",
    "region: the beneficiary's residential area in the US, northeast, southeast, southwest, northwest.\n",
    "\n",
    "charges: Individual medical costs billed by health insurance"
   ]
  },
  {
   "cell_type": "markdown",
   "metadata": {},
   "source": [
    "# Base Model "
   ]
  },
  {
   "cell_type": "code",
   "execution_count": 2,
   "metadata": {},
   "outputs": [],
   "source": [
    "dfi=pd.read_csv('insurance_prl.csv')"
   ]
  },
  {
   "cell_type": "code",
   "execution_count": 3,
   "metadata": {},
   "outputs": [
    {
     "data": {
      "text/html": [
       "<div>\n",
       "<style scoped>\n",
       "    .dataframe tbody tr th:only-of-type {\n",
       "        vertical-align: middle;\n",
       "    }\n",
       "\n",
       "    .dataframe tbody tr th {\n",
       "        vertical-align: top;\n",
       "    }\n",
       "\n",
       "    .dataframe thead th {\n",
       "        text-align: right;\n",
       "    }\n",
       "</style>\n",
       "<table border=\"1\" class=\"dataframe\">\n",
       "  <thead>\n",
       "    <tr style=\"text-align: right;\">\n",
       "      <th></th>\n",
       "      <th>age</th>\n",
       "      <th>sex</th>\n",
       "      <th>bmi</th>\n",
       "      <th>children</th>\n",
       "      <th>smoker</th>\n",
       "      <th>region</th>\n",
       "      <th>charges</th>\n",
       "    </tr>\n",
       "  </thead>\n",
       "  <tbody>\n",
       "    <tr>\n",
       "      <th>0</th>\n",
       "      <td>19</td>\n",
       "      <td>female</td>\n",
       "      <td>27.900</td>\n",
       "      <td>0</td>\n",
       "      <td>yes</td>\n",
       "      <td>southwest</td>\n",
       "      <td>16884.92400</td>\n",
       "    </tr>\n",
       "    <tr>\n",
       "      <th>1</th>\n",
       "      <td>18</td>\n",
       "      <td>male</td>\n",
       "      <td>33.770</td>\n",
       "      <td>1</td>\n",
       "      <td>no</td>\n",
       "      <td>southeast</td>\n",
       "      <td>1725.55230</td>\n",
       "    </tr>\n",
       "    <tr>\n",
       "      <th>2</th>\n",
       "      <td>28</td>\n",
       "      <td>male</td>\n",
       "      <td>33.000</td>\n",
       "      <td>3</td>\n",
       "      <td>no</td>\n",
       "      <td>southeast</td>\n",
       "      <td>4449.46200</td>\n",
       "    </tr>\n",
       "    <tr>\n",
       "      <th>3</th>\n",
       "      <td>33</td>\n",
       "      <td>male</td>\n",
       "      <td>22.705</td>\n",
       "      <td>0</td>\n",
       "      <td>no</td>\n",
       "      <td>northwest</td>\n",
       "      <td>21984.47061</td>\n",
       "    </tr>\n",
       "    <tr>\n",
       "      <th>4</th>\n",
       "      <td>32</td>\n",
       "      <td>male</td>\n",
       "      <td>28.880</td>\n",
       "      <td>0</td>\n",
       "      <td>no</td>\n",
       "      <td>northwest</td>\n",
       "      <td>3866.85520</td>\n",
       "    </tr>\n",
       "    <tr>\n",
       "      <th>...</th>\n",
       "      <td>...</td>\n",
       "      <td>...</td>\n",
       "      <td>...</td>\n",
       "      <td>...</td>\n",
       "      <td>...</td>\n",
       "      <td>...</td>\n",
       "      <td>...</td>\n",
       "    </tr>\n",
       "    <tr>\n",
       "      <th>1333</th>\n",
       "      <td>50</td>\n",
       "      <td>male</td>\n",
       "      <td>30.970</td>\n",
       "      <td>3</td>\n",
       "      <td>no</td>\n",
       "      <td>northwest</td>\n",
       "      <td>10600.54830</td>\n",
       "    </tr>\n",
       "    <tr>\n",
       "      <th>1334</th>\n",
       "      <td>18</td>\n",
       "      <td>female</td>\n",
       "      <td>31.920</td>\n",
       "      <td>0</td>\n",
       "      <td>no</td>\n",
       "      <td>northeast</td>\n",
       "      <td>2205.98080</td>\n",
       "    </tr>\n",
       "    <tr>\n",
       "      <th>1335</th>\n",
       "      <td>18</td>\n",
       "      <td>female</td>\n",
       "      <td>36.850</td>\n",
       "      <td>0</td>\n",
       "      <td>no</td>\n",
       "      <td>southeast</td>\n",
       "      <td>1629.83350</td>\n",
       "    </tr>\n",
       "    <tr>\n",
       "      <th>1336</th>\n",
       "      <td>21</td>\n",
       "      <td>female</td>\n",
       "      <td>25.800</td>\n",
       "      <td>0</td>\n",
       "      <td>no</td>\n",
       "      <td>southwest</td>\n",
       "      <td>2007.94500</td>\n",
       "    </tr>\n",
       "    <tr>\n",
       "      <th>1337</th>\n",
       "      <td>61</td>\n",
       "      <td>female</td>\n",
       "      <td>29.070</td>\n",
       "      <td>0</td>\n",
       "      <td>yes</td>\n",
       "      <td>northwest</td>\n",
       "      <td>29141.36030</td>\n",
       "    </tr>\n",
       "  </tbody>\n",
       "</table>\n",
       "<p>1338 rows × 7 columns</p>\n",
       "</div>"
      ],
      "text/plain": [
       "      age     sex     bmi  children smoker     region      charges\n",
       "0      19  female  27.900         0    yes  southwest  16884.92400\n",
       "1      18    male  33.770         1     no  southeast   1725.55230\n",
       "2      28    male  33.000         3     no  southeast   4449.46200\n",
       "3      33    male  22.705         0     no  northwest  21984.47061\n",
       "4      32    male  28.880         0     no  northwest   3866.85520\n",
       "...   ...     ...     ...       ...    ...        ...          ...\n",
       "1333   50    male  30.970         3     no  northwest  10600.54830\n",
       "1334   18  female  31.920         0     no  northeast   2205.98080\n",
       "1335   18  female  36.850         0     no  southeast   1629.83350\n",
       "1336   21  female  25.800         0     no  southwest   2007.94500\n",
       "1337   61  female  29.070         0    yes  northwest  29141.36030\n",
       "\n",
       "[1338 rows x 7 columns]"
      ]
     },
     "execution_count": 3,
     "metadata": {},
     "output_type": "execute_result"
    }
   ],
   "source": [
    "dfi"
   ]
  },
  {
   "cell_type": "code",
   "execution_count": 4,
   "metadata": {},
   "outputs": [
    {
     "name": "stdout",
     "output_type": "stream",
     "text": [
      "<class 'pandas.core.frame.DataFrame'>\n",
      "RangeIndex: 1338 entries, 0 to 1337\n",
      "Data columns (total 7 columns):\n",
      " #   Column    Non-Null Count  Dtype  \n",
      "---  ------    --------------  -----  \n",
      " 0   age       1338 non-null   int64  \n",
      " 1   sex       1338 non-null   object \n",
      " 2   bmi       1338 non-null   float64\n",
      " 3   children  1338 non-null   int64  \n",
      " 4   smoker    1338 non-null   object \n",
      " 5   region    1338 non-null   object \n",
      " 6   charges   1338 non-null   float64\n",
      "dtypes: float64(2), int64(2), object(3)\n",
      "memory usage: 73.3+ KB\n"
     ]
    }
   ],
   "source": [
    "dfi.info()"
   ]
  },
  {
   "cell_type": "code",
   "execution_count": 5,
   "metadata": {},
   "outputs": [
    {
     "data": {
      "text/plain": [
       "age         0\n",
       "sex         0\n",
       "bmi         0\n",
       "children    0\n",
       "smoker      0\n",
       "region      0\n",
       "charges     0\n",
       "dtype: int64"
      ]
     },
     "execution_count": 5,
     "metadata": {},
     "output_type": "execute_result"
    }
   ],
   "source": [
    "dfi.isnull().sum()"
   ]
  },
  {
   "cell_type": "code",
   "execution_count": 6,
   "metadata": {},
   "outputs": [],
   "source": [
    "df=dfi.drop_duplicates()"
   ]
  },
  {
   "cell_type": "code",
   "execution_count": 7,
   "metadata": {
    "scrolled": true
   },
   "outputs": [
    {
     "data": {
      "text/html": [
       "<div>\n",
       "<style scoped>\n",
       "    .dataframe tbody tr th:only-of-type {\n",
       "        vertical-align: middle;\n",
       "    }\n",
       "\n",
       "    .dataframe tbody tr th {\n",
       "        vertical-align: top;\n",
       "    }\n",
       "\n",
       "    .dataframe thead th {\n",
       "        text-align: right;\n",
       "    }\n",
       "</style>\n",
       "<table border=\"1\" class=\"dataframe\">\n",
       "  <thead>\n",
       "    <tr style=\"text-align: right;\">\n",
       "      <th></th>\n",
       "      <th>age</th>\n",
       "      <th>bmi</th>\n",
       "      <th>children</th>\n",
       "      <th>charges</th>\n",
       "    </tr>\n",
       "  </thead>\n",
       "  <tbody>\n",
       "    <tr>\n",
       "      <th>count</th>\n",
       "      <td>1337.000000</td>\n",
       "      <td>1337.000000</td>\n",
       "      <td>1337.000000</td>\n",
       "      <td>1337.000000</td>\n",
       "    </tr>\n",
       "    <tr>\n",
       "      <th>mean</th>\n",
       "      <td>39.222139</td>\n",
       "      <td>30.663452</td>\n",
       "      <td>1.095737</td>\n",
       "      <td>13279.121487</td>\n",
       "    </tr>\n",
       "    <tr>\n",
       "      <th>std</th>\n",
       "      <td>14.044333</td>\n",
       "      <td>6.100468</td>\n",
       "      <td>1.205571</td>\n",
       "      <td>12110.359656</td>\n",
       "    </tr>\n",
       "    <tr>\n",
       "      <th>min</th>\n",
       "      <td>18.000000</td>\n",
       "      <td>15.960000</td>\n",
       "      <td>0.000000</td>\n",
       "      <td>1121.873900</td>\n",
       "    </tr>\n",
       "    <tr>\n",
       "      <th>25%</th>\n",
       "      <td>27.000000</td>\n",
       "      <td>26.290000</td>\n",
       "      <td>0.000000</td>\n",
       "      <td>4746.344000</td>\n",
       "    </tr>\n",
       "    <tr>\n",
       "      <th>50%</th>\n",
       "      <td>39.000000</td>\n",
       "      <td>30.400000</td>\n",
       "      <td>1.000000</td>\n",
       "      <td>9386.161300</td>\n",
       "    </tr>\n",
       "    <tr>\n",
       "      <th>75%</th>\n",
       "      <td>51.000000</td>\n",
       "      <td>34.700000</td>\n",
       "      <td>2.000000</td>\n",
       "      <td>16657.717450</td>\n",
       "    </tr>\n",
       "    <tr>\n",
       "      <th>max</th>\n",
       "      <td>64.000000</td>\n",
       "      <td>53.130000</td>\n",
       "      <td>5.000000</td>\n",
       "      <td>63770.428010</td>\n",
       "    </tr>\n",
       "  </tbody>\n",
       "</table>\n",
       "</div>"
      ],
      "text/plain": [
       "               age          bmi     children       charges\n",
       "count  1337.000000  1337.000000  1337.000000   1337.000000\n",
       "mean     39.222139    30.663452     1.095737  13279.121487\n",
       "std      14.044333     6.100468     1.205571  12110.359656\n",
       "min      18.000000    15.960000     0.000000   1121.873900\n",
       "25%      27.000000    26.290000     0.000000   4746.344000\n",
       "50%      39.000000    30.400000     1.000000   9386.161300\n",
       "75%      51.000000    34.700000     2.000000  16657.717450\n",
       "max      64.000000    53.130000     5.000000  63770.428010"
      ]
     },
     "execution_count": 7,
     "metadata": {},
     "output_type": "execute_result"
    }
   ],
   "source": [
    "df.describe()"
   ]
  },
  {
   "cell_type": "markdown",
   "metadata": {},
   "source": [
    "## Visualization of data and checking outliners"
   ]
  },
  {
   "cell_type": "code",
   "execution_count": 8,
   "metadata": {},
   "outputs": [
    {
     "data": {
      "image/png": "[encoded data removed]",
      "text/plain": [
       "<Figure size 432x432 with 1 Axes>"
      ]
     },
     "metadata": {},
     "output_type": "display_data"
    }
   ],
   "source": [
    "sns.set()\n",
    "plt.figure(figsize=(6,6))\n",
    "sns.distplot(df['age'])\n",
    "plt.title('Age distribution')\n",
    "plt.show()"
   ]
  },
  {
   "cell_type": "markdown",
   "metadata": {},
   "source": [
    "#### Here we can see most of our age group in our dataset is between 20-30 age group"
   ]
  },
  {
   "cell_type": "code",
   "execution_count": 9,
   "metadata": {},
   "outputs": [
    {
     "data": {
      "text/plain": [
       "male      675\n",
       "female    662\n",
       "Name: sex, dtype: int64"
      ]
     },
     "execution_count": 9,
     "metadata": {},
     "output_type": "execute_result"
    }
   ],
   "source": [
    "df['sex'].value_counts()"
   ]
  },
  {
   "cell_type": "code",
   "execution_count": 10,
   "metadata": {},
   "outputs": [
    {
     "data": {
      "image/png": "[encoded data removed]",
      "text/plain": [
       "<Figure size 432x432 with 1 Axes>"
      ]
     },
     "metadata": {},
     "output_type": "display_data"
    }
   ],
   "source": [
    "plt.figure(figsize=(6,6))\n",
    "sns.countplot(x='sex',data=df)\n",
    "plt.title('Sex distribution')\n",
    "plt.show()"
   ]
  },
  {
   "cell_type": "markdown",
   "metadata": {},
   "source": [
    "###### Here we can see the no of male is between 650 t0 700"
   ]
  },
  {
   "cell_type": "code",
   "execution_count": 11,
   "metadata": {},
   "outputs": [
    {
     "data": {
      "image/png": "[encoded data removed]",
      "text/plain": [
       "<Figure size 432x432 with 1 Axes>"
      ]
     },
     "metadata": {},
     "output_type": "display_data"
    }
   ],
   "source": [
    "sns.set()\n",
    "plt.figure(figsize=(6,6))\n",
    "sns.distplot(df['bmi'])\n",
    "plt.title('Body mass index distribution')\n",
    "plt.show()"
   ]
  },
  {
   "cell_type": "markdown",
   "metadata": {},
   "source": [
    "###### Here we can see it is normally disrtibution and there is outliner"
   ]
  },
  {
   "cell_type": "code",
   "execution_count": 12,
   "metadata": {},
   "outputs": [
    {
     "data": {
      "image/png": "[encoded data removed]",
      "text/plain": [
       "<Figure size 432x432 with 1 Axes>"
      ]
     },
     "metadata": {},
     "output_type": "display_data"
    }
   ],
   "source": [
    "\n",
    "plt.figure(figsize=(6,6))\n",
    "sns.countplot(x='children',data=df)\n",
    "plt.title('Children distribution')\n",
    "plt.show()"
   ]
  },
  {
   "cell_type": "markdown",
   "metadata": {},
   "source": [
    "###### Here we can see there are more number of peole who no children"
   ]
  },
  {
   "cell_type": "code",
   "execution_count": 13,
   "metadata": {},
   "outputs": [
    {
     "data": {
      "text/plain": [
       "0    573\n",
       "1    324\n",
       "2    240\n",
       "3    157\n",
       "4     25\n",
       "5     18\n",
       "Name: children, dtype: int64"
      ]
     },
     "execution_count": 13,
     "metadata": {},
     "output_type": "execute_result"
    }
   ],
   "source": [
    "df['children'].value_counts()"
   ]
  },
  {
   "cell_type": "code",
   "execution_count": 14,
   "metadata": {},
   "outputs": [
    {
     "data": {
      "text/plain": [
       "no     1063\n",
       "yes     274\n",
       "Name: smoker, dtype: int64"
      ]
     },
     "execution_count": 14,
     "metadata": {},
     "output_type": "execute_result"
    }
   ],
   "source": [
    "df['smoker'].value_counts()"
   ]
  },
  {
   "cell_type": "code",
   "execution_count": 15,
   "metadata": {
    "scrolled": true
   },
   "outputs": [
    {
     "data": {
      "image/png": "[encoded data removed]",
      "text/plain": [
       "<Figure size 432x432 with 1 Axes>"
      ]
     },
     "metadata": {},
     "output_type": "display_data"
    }
   ],
   "source": [
    "plt.figure(figsize=(6,6))\n",
    "sns.countplot(x='smoker',data=df)\n",
    "plt.title('Smokers')\n",
    "plt.show()"
   ]
  },
  {
   "cell_type": "markdown",
   "metadata": {},
   "source": [
    "###### Here we can see there are less no:of smokers"
   ]
  },
  {
   "cell_type": "code",
   "execution_count": 16,
   "metadata": {
    "scrolled": true
   },
   "outputs": [
    {
     "data": {
      "text/plain": [
       "southeast    364\n",
       "southwest    325\n",
       "northeast    324\n",
       "northwest    324\n",
       "Name: region, dtype: int64"
      ]
     },
     "execution_count": 16,
     "metadata": {},
     "output_type": "execute_result"
    }
   ],
   "source": [
    "df['region'].value_counts()"
   ]
  },
  {
   "cell_type": "code",
   "execution_count": 17,
   "metadata": {
    "scrolled": true
   },
   "outputs": [
    {
     "data": {
      "image/png": "[encoded data removed]",
      "text/plain": [
       "<Figure size 432x432 with 1 Axes>"
      ]
     },
     "metadata": {},
     "output_type": "display_data"
    }
   ],
   "source": [
    "plt.figure(figsize=(6,6))\n",
    "sns.countplot(x='region',data=df)\n",
    "plt.title('Region')\n",
    "plt.show()"
   ]
  },
  {
   "cell_type": "code",
   "execution_count": 18,
   "metadata": {
    "scrolled": true
   },
   "outputs": [
    {
     "data": {
      "image/png": "[encoded data removed]",
      "text/plain": [
       "<Figure size 432x432 with 1 Axes>"
      ]
     },
     "metadata": {},
     "output_type": "display_data"
    }
   ],
   "source": [
    "sns.set()\n",
    "plt.figure(figsize=(6,6))\n",
    "sns.distplot(df['charges'])\n",
    "plt.title('Charges')\n",
    "plt.show()"
   ]
  },
  {
   "cell_type": "markdown",
   "metadata": {},
   "source": [
    "There are three catogorical columns-\n",
    "smokers, region and sex\n",
    "Here we will replace the values to numerical values\n"
   ]
  },
  {
   "cell_type": "code",
   "execution_count": 19,
   "metadata": {},
   "outputs": [],
   "source": [
    "#Changing the catagorical variable to numerical variable\n",
    "\n",
    "df.replace({'sex':{'male':0,'female':1}},inplace=True)\n",
    "df.replace({'smoker':{'yes':0,'no':1}},inplace=True)\n",
    "df.replace({'region':{'southwest':1,'southeast':2,'northwest':3,'northeast':4}},inplace=True)"
   ]
  },
  {
   "cell_type": "code",
   "execution_count": 20,
   "metadata": {},
   "outputs": [
    {
     "data": {
      "text/html": [
       "<div>\n",
       "<style scoped>\n",
       "    .dataframe tbody tr th:only-of-type {\n",
       "        vertical-align: middle;\n",
       "    }\n",
       "\n",
       "    .dataframe tbody tr th {\n",
       "        vertical-align: top;\n",
       "    }\n",
       "\n",
       "    .dataframe thead th {\n",
       "        text-align: right;\n",
       "    }\n",
       "</style>\n",
       "<table border=\"1\" class=\"dataframe\">\n",
       "  <thead>\n",
       "    <tr style=\"text-align: right;\">\n",
       "      <th></th>\n",
       "      <th>age</th>\n",
       "      <th>sex</th>\n",
       "      <th>bmi</th>\n",
       "      <th>children</th>\n",
       "      <th>smoker</th>\n",
       "      <th>region</th>\n",
       "      <th>charges</th>\n",
       "    </tr>\n",
       "  </thead>\n",
       "  <tbody>\n",
       "    <tr>\n",
       "      <th>0</th>\n",
       "      <td>19</td>\n",
       "      <td>1</td>\n",
       "      <td>27.900</td>\n",
       "      <td>0</td>\n",
       "      <td>0</td>\n",
       "      <td>1</td>\n",
       "      <td>16884.92400</td>\n",
       "    </tr>\n",
       "    <tr>\n",
       "      <th>1</th>\n",
       "      <td>18</td>\n",
       "      <td>0</td>\n",
       "      <td>33.770</td>\n",
       "      <td>1</td>\n",
       "      <td>1</td>\n",
       "      <td>2</td>\n",
       "      <td>1725.55230</td>\n",
       "    </tr>\n",
       "    <tr>\n",
       "      <th>2</th>\n",
       "      <td>28</td>\n",
       "      <td>0</td>\n",
       "      <td>33.000</td>\n",
       "      <td>3</td>\n",
       "      <td>1</td>\n",
       "      <td>2</td>\n",
       "      <td>4449.46200</td>\n",
       "    </tr>\n",
       "    <tr>\n",
       "      <th>3</th>\n",
       "      <td>33</td>\n",
       "      <td>0</td>\n",
       "      <td>22.705</td>\n",
       "      <td>0</td>\n",
       "      <td>1</td>\n",
       "      <td>3</td>\n",
       "      <td>21984.47061</td>\n",
       "    </tr>\n",
       "    <tr>\n",
       "      <th>4</th>\n",
       "      <td>32</td>\n",
       "      <td>0</td>\n",
       "      <td>28.880</td>\n",
       "      <td>0</td>\n",
       "      <td>1</td>\n",
       "      <td>3</td>\n",
       "      <td>3866.85520</td>\n",
       "    </tr>\n",
       "    <tr>\n",
       "      <th>...</th>\n",
       "      <td>...</td>\n",
       "      <td>...</td>\n",
       "      <td>...</td>\n",
       "      <td>...</td>\n",
       "      <td>...</td>\n",
       "      <td>...</td>\n",
       "      <td>...</td>\n",
       "    </tr>\n",
       "    <tr>\n",
       "      <th>1333</th>\n",
       "      <td>50</td>\n",
       "      <td>0</td>\n",
       "      <td>30.970</td>\n",
       "      <td>3</td>\n",
       "      <td>1</td>\n",
       "      <td>3</td>\n",
       "      <td>10600.54830</td>\n",
       "    </tr>\n",
       "    <tr>\n",
       "      <th>1334</th>\n",
       "      <td>18</td>\n",
       "      <td>1</td>\n",
       "      <td>31.920</td>\n",
       "      <td>0</td>\n",
       "      <td>1</td>\n",
       "      <td>4</td>\n",
       "      <td>2205.98080</td>\n",
       "    </tr>\n",
       "    <tr>\n",
       "      <th>1335</th>\n",
       "      <td>18</td>\n",
       "      <td>1</td>\n",
       "      <td>36.850</td>\n",
       "      <td>0</td>\n",
       "      <td>1</td>\n",
       "      <td>2</td>\n",
       "      <td>1629.83350</td>\n",
       "    </tr>\n",
       "    <tr>\n",
       "      <th>1336</th>\n",
       "      <td>21</td>\n",
       "      <td>1</td>\n",
       "      <td>25.800</td>\n",
       "      <td>0</td>\n",
       "      <td>1</td>\n",
       "      <td>1</td>\n",
       "      <td>2007.94500</td>\n",
       "    </tr>\n",
       "    <tr>\n",
       "      <th>1337</th>\n",
       "      <td>61</td>\n",
       "      <td>1</td>\n",
       "      <td>29.070</td>\n",
       "      <td>0</td>\n",
       "      <td>0</td>\n",
       "      <td>3</td>\n",
       "      <td>29141.36030</td>\n",
       "    </tr>\n",
       "  </tbody>\n",
       "</table>\n",
       "<p>1337 rows × 7 columns</p>\n",
       "</div>"
      ],
      "text/plain": [
       "      age  sex     bmi  children  smoker  region      charges\n",
       "0      19    1  27.900         0       0       1  16884.92400\n",
       "1      18    0  33.770         1       1       2   1725.55230\n",
       "2      28    0  33.000         3       1       2   4449.46200\n",
       "3      33    0  22.705         0       1       3  21984.47061\n",
       "4      32    0  28.880         0       1       3   3866.85520\n",
       "...   ...  ...     ...       ...     ...     ...          ...\n",
       "1333   50    0  30.970         3       1       3  10600.54830\n",
       "1334   18    1  31.920         0       1       4   2205.98080\n",
       "1335   18    1  36.850         0       1       2   1629.83350\n",
       "1336   21    1  25.800         0       1       1   2007.94500\n",
       "1337   61    1  29.070         0       0       3  29141.36030\n",
       "\n",
       "[1337 rows x 7 columns]"
      ]
     },
     "execution_count": 20,
     "metadata": {},
     "output_type": "execute_result"
    }
   ],
   "source": [
    "df"
   ]
  },
  {
   "cell_type": "code",
   "execution_count": 21,
   "metadata": {
    "scrolled": true
   },
   "outputs": [
    {
     "data": {
      "text/html": [
       "<table class=\"simpletable\">\n",
       "<caption>OLS Regression Results</caption>\n",
       "<tr>\n",
       "  <th>Dep. Variable:</th>         <td>charges</td>     <th>  R-squared:         </th> <td>   0.751</td> \n",
       "</tr>\n",
       "<tr>\n",
       "  <th>Model:</th>                   <td>OLS</td>       <th>  Adj. R-squared:    </th> <td>   0.749</td> \n",
       "</tr>\n",
       "<tr>\n",
       "  <th>Method:</th>             <td>Least Squares</td>  <th>  F-statistic:       </th> <td>   667.0</td> \n",
       "</tr>\n",
       "<tr>\n",
       "  <th>Date:</th>             <td>Sun, 26 Feb 2023</td> <th>  Prob (F-statistic):</th>  <td>  0.00</td>  \n",
       "</tr>\n",
       "<tr>\n",
       "  <th>Time:</th>                 <td>21:07:09</td>     <th>  Log-Likelihood:    </th> <td> -13539.</td> \n",
       "</tr>\n",
       "<tr>\n",
       "  <th>No. Observations:</th>      <td>  1337</td>      <th>  AIC:               </th> <td>2.709e+04</td>\n",
       "</tr>\n",
       "<tr>\n",
       "  <th>Df Residuals:</th>          <td>  1330</td>      <th>  BIC:               </th> <td>2.713e+04</td>\n",
       "</tr>\n",
       "<tr>\n",
       "  <th>Df Model:</th>              <td>     6</td>      <th>                     </th>     <td> </td>    \n",
       "</tr>\n",
       "<tr>\n",
       "  <th>Covariance Type:</th>      <td>nonrobust</td>    <th>                     </th>     <td> </td>    \n",
       "</tr>\n",
       "</table>\n",
       "<table class=\"simpletable\">\n",
       "<tr>\n",
       "      <td></td>         <th>coef</th>     <th>std err</th>      <th>t</th>      <th>P>|t|</th>  <th>[0.025</th>    <th>0.975]</th>  \n",
       "</tr>\n",
       "<tr>\n",
       "  <th>Intercept</th> <td> 1.046e+04</td> <td> 1126.526</td> <td>    9.287</td> <td> 0.000</td> <td> 8252.296</td> <td> 1.27e+04</td>\n",
       "</tr>\n",
       "<tr>\n",
       "  <th>age</th>       <td>  257.2032</td> <td>   11.899</td> <td>   21.616</td> <td> 0.000</td> <td>  233.861</td> <td>  280.546</td>\n",
       "</tr>\n",
       "<tr>\n",
       "  <th>sex</th>       <td>  129.4009</td> <td>  333.059</td> <td>    0.389</td> <td> 0.698</td> <td> -523.978</td> <td>  782.779</td>\n",
       "</tr>\n",
       "<tr>\n",
       "  <th>bmi</th>       <td>  332.5957</td> <td>   27.733</td> <td>   11.993</td> <td> 0.000</td> <td>  278.191</td> <td>  387.000</td>\n",
       "</tr>\n",
       "<tr>\n",
       "  <th>children</th>  <td>  478.7717</td> <td>  137.732</td> <td>    3.476</td> <td> 0.001</td> <td>  208.576</td> <td>  748.967</td>\n",
       "</tr>\n",
       "<tr>\n",
       "  <th>smoker</th>    <td>-2.382e+04</td> <td>  412.051</td> <td>  -57.806</td> <td> 0.000</td> <td>-2.46e+04</td> <td> -2.3e+04</td>\n",
       "</tr>\n",
       "<tr>\n",
       "  <th>region</th>    <td>  354.0097</td> <td>  151.995</td> <td>    2.329</td> <td> 0.020</td> <td>   55.834</td> <td>  652.185</td>\n",
       "</tr>\n",
       "</table>\n",
       "<table class=\"simpletable\">\n",
       "<tr>\n",
       "  <th>Omnibus:</th>       <td>298.466</td> <th>  Durbin-Watson:     </th> <td>   2.088</td> \n",
       "</tr>\n",
       "<tr>\n",
       "  <th>Prob(Omnibus):</th> <td> 0.000</td>  <th>  Jarque-Bera (JB):  </th> <td> 711.712</td> \n",
       "</tr>\n",
       "<tr>\n",
       "  <th>Skew:</th>          <td> 1.206</td>  <th>  Prob(JB):          </th> <td>2.84e-155</td>\n",
       "</tr>\n",
       "<tr>\n",
       "  <th>Kurtosis:</th>      <td> 5.637</td>  <th>  Cond. No.          </th> <td>    352.</td> \n",
       "</tr>\n",
       "</table><br/><br/>Notes:<br/>[1] Standard Errors assume that the covariance matrix of the errors is correctly specified."
      ],
      "text/plain": [
       "<class 'statsmodels.iolib.summary.Summary'>\n",
       "\"\"\"\n",
       "                            OLS Regression Results                            \n",
       "==============================================================================\n",
       "Dep. Variable:                charges   R-squared:                       0.751\n",
       "Model:                            OLS   Adj. R-squared:                  0.749\n",
       "Method:                 Least Squares   F-statistic:                     667.0\n",
       "Date:                Sun, 26 Feb 2023   Prob (F-statistic):               0.00\n",
       "Time:                        21:07:09   Log-Likelihood:                -13539.\n",
       "No. Observations:                1337   AIC:                         2.709e+04\n",
       "Df Residuals:                    1330   BIC:                         2.713e+04\n",
       "Df Model:                           6                                         \n",
       "Covariance Type:            nonrobust                                         \n",
       "==============================================================================\n",
       "                 coef    std err          t      P>|t|      [0.025      0.975]\n",
       "------------------------------------------------------------------------------\n",
       "Intercept   1.046e+04   1126.526      9.287      0.000    8252.296    1.27e+04\n",
       "age          257.2032     11.899     21.616      0.000     233.861     280.546\n",
       "sex          129.4009    333.059      0.389      0.698    -523.978     782.779\n",
       "bmi          332.5957     27.733     11.993      0.000     278.191     387.000\n",
       "children     478.7717    137.732      3.476      0.001     208.576     748.967\n",
       "smoker     -2.382e+04    412.051    -57.806      0.000   -2.46e+04    -2.3e+04\n",
       "region       354.0097    151.995      2.329      0.020      55.834     652.185\n",
       "==============================================================================\n",
       "Omnibus:                      298.466   Durbin-Watson:                   2.088\n",
       "Prob(Omnibus):                  0.000   Jarque-Bera (JB):              711.712\n",
       "Skew:                           1.206   Prob(JB):                    2.84e-155\n",
       "Kurtosis:                       5.637   Cond. No.                         352.\n",
       "==============================================================================\n",
       "\n",
       "Notes:\n",
       "[1] Standard Errors assume that the covariance matrix of the errors is correctly specified.\n",
       "\"\"\""
      ]
     },
     "execution_count": 21,
     "metadata": {},
     "output_type": "execute_result"
    }
   ],
   "source": [
    "outcome = 'charges'\n",
    "x_cols = df.drop('charges',axis=1)\n",
    "predictors = '+'.join(x_cols)\n",
    "formula = outcome + '~' + predictors\n",
    "model = ols(formula=formula, data=df).fit()\n",
    "model.summary()"
   ]
  },
  {
   "cell_type": "code",
   "execution_count": 22,
   "metadata": {
    "scrolled": false
   },
   "outputs": [
    {
     "data": {
      "image/png": "[encoded data removed]",
      "text/plain": [
       "<Figure size 432x288 with 1 Axes>"
      ]
     },
     "metadata": {},
     "output_type": "display_data"
    }
   ],
   "source": [
    "# Q-Q plot and Regression plot\n",
    "model=smf.ols(formula,data=df).fit()\n",
    "fig = sm.graphics.qqplot(model.resid, line='45',fit=True);"
   ]
  },
  {
   "cell_type": "markdown",
   "metadata": {},
   "source": [
    "### Creating Dummies"
   ]
  },
  {
   "cell_type": "code",
   "execution_count": 23,
   "metadata": {
    "scrolled": true
   },
   "outputs": [
    {
     "data": {
      "text/html": [
       "<div>\n",
       "<style scoped>\n",
       "    .dataframe tbody tr th:only-of-type {\n",
       "        vertical-align: middle;\n",
       "    }\n",
       "\n",
       "    .dataframe tbody tr th {\n",
       "        vertical-align: top;\n",
       "    }\n",
       "\n",
       "    .dataframe thead th {\n",
       "        text-align: right;\n",
       "    }\n",
       "</style>\n",
       "<table border=\"1\" class=\"dataframe\">\n",
       "  <thead>\n",
       "    <tr style=\"text-align: right;\">\n",
       "      <th></th>\n",
       "      <th>age</th>\n",
       "      <th>bmi</th>\n",
       "      <th>charges</th>\n",
       "      <th>s_1</th>\n",
       "      <th>sm_1</th>\n",
       "      <th>ch_1</th>\n",
       "      <th>ch_2</th>\n",
       "      <th>ch_3</th>\n",
       "      <th>ch_4</th>\n",
       "      <th>ch_5</th>\n",
       "      <th>reg_2</th>\n",
       "      <th>reg_3</th>\n",
       "      <th>reg_4</th>\n",
       "    </tr>\n",
       "  </thead>\n",
       "  <tbody>\n",
       "    <tr>\n",
       "      <th>0</th>\n",
       "      <td>19</td>\n",
       "      <td>27.900</td>\n",
       "      <td>16884.92400</td>\n",
       "      <td>1</td>\n",
       "      <td>0</td>\n",
       "      <td>0</td>\n",
       "      <td>0</td>\n",
       "      <td>0</td>\n",
       "      <td>0</td>\n",
       "      <td>0</td>\n",
       "      <td>0</td>\n",
       "      <td>0</td>\n",
       "      <td>0</td>\n",
       "    </tr>\n",
       "    <tr>\n",
       "      <th>1</th>\n",
       "      <td>18</td>\n",
       "      <td>33.770</td>\n",
       "      <td>1725.55230</td>\n",
       "      <td>0</td>\n",
       "      <td>1</td>\n",
       "      <td>1</td>\n",
       "      <td>0</td>\n",
       "      <td>0</td>\n",
       "      <td>0</td>\n",
       "      <td>0</td>\n",
       "      <td>1</td>\n",
       "      <td>0</td>\n",
       "      <td>0</td>\n",
       "    </tr>\n",
       "    <tr>\n",
       "      <th>2</th>\n",
       "      <td>28</td>\n",
       "      <td>33.000</td>\n",
       "      <td>4449.46200</td>\n",
       "      <td>0</td>\n",
       "      <td>1</td>\n",
       "      <td>0</td>\n",
       "      <td>0</td>\n",
       "      <td>1</td>\n",
       "      <td>0</td>\n",
       "      <td>0</td>\n",
       "      <td>1</td>\n",
       "      <td>0</td>\n",
       "      <td>0</td>\n",
       "    </tr>\n",
       "    <tr>\n",
       "      <th>3</th>\n",
       "      <td>33</td>\n",
       "      <td>22.705</td>\n",
       "      <td>21984.47061</td>\n",
       "      <td>0</td>\n",
       "      <td>1</td>\n",
       "      <td>0</td>\n",
       "      <td>0</td>\n",
       "      <td>0</td>\n",
       "      <td>0</td>\n",
       "      <td>0</td>\n",
       "      <td>0</td>\n",
       "      <td>1</td>\n",
       "      <td>0</td>\n",
       "    </tr>\n",
       "    <tr>\n",
       "      <th>4</th>\n",
       "      <td>32</td>\n",
       "      <td>28.880</td>\n",
       "      <td>3866.85520</td>\n",
       "      <td>0</td>\n",
       "      <td>1</td>\n",
       "      <td>0</td>\n",
       "      <td>0</td>\n",
       "      <td>0</td>\n",
       "      <td>0</td>\n",
       "      <td>0</td>\n",
       "      <td>0</td>\n",
       "      <td>1</td>\n",
       "      <td>0</td>\n",
       "    </tr>\n",
       "    <tr>\n",
       "      <th>...</th>\n",
       "      <td>...</td>\n",
       "      <td>...</td>\n",
       "      <td>...</td>\n",
       "      <td>...</td>\n",
       "      <td>...</td>\n",
       "      <td>...</td>\n",
       "      <td>...</td>\n",
       "      <td>...</td>\n",
       "      <td>...</td>\n",
       "      <td>...</td>\n",
       "      <td>...</td>\n",
       "      <td>...</td>\n",
       "      <td>...</td>\n",
       "    </tr>\n",
       "    <tr>\n",
       "      <th>1333</th>\n",
       "      <td>50</td>\n",
       "      <td>30.970</td>\n",
       "      <td>10600.54830</td>\n",
       "      <td>0</td>\n",
       "      <td>1</td>\n",
       "      <td>0</td>\n",
       "      <td>0</td>\n",
       "      <td>1</td>\n",
       "      <td>0</td>\n",
       "      <td>0</td>\n",
       "      <td>0</td>\n",
       "      <td>1</td>\n",
       "      <td>0</td>\n",
       "    </tr>\n",
       "    <tr>\n",
       "      <th>1334</th>\n",
       "      <td>18</td>\n",
       "      <td>31.920</td>\n",
       "      <td>2205.98080</td>\n",
       "      <td>1</td>\n",
       "      <td>1</td>\n",
       "      <td>0</td>\n",
       "      <td>0</td>\n",
       "      <td>0</td>\n",
       "      <td>0</td>\n",
       "      <td>0</td>\n",
       "      <td>0</td>\n",
       "      <td>0</td>\n",
       "      <td>1</td>\n",
       "    </tr>\n",
       "    <tr>\n",
       "      <th>1335</th>\n",
       "      <td>18</td>\n",
       "      <td>36.850</td>\n",
       "      <td>1629.83350</td>\n",
       "      <td>1</td>\n",
       "      <td>1</td>\n",
       "      <td>0</td>\n",
       "      <td>0</td>\n",
       "      <td>0</td>\n",
       "      <td>0</td>\n",
       "      <td>0</td>\n",
       "      <td>1</td>\n",
       "      <td>0</td>\n",
       "      <td>0</td>\n",
       "    </tr>\n",
       "    <tr>\n",
       "      <th>1336</th>\n",
       "      <td>21</td>\n",
       "      <td>25.800</td>\n",
       "      <td>2007.94500</td>\n",
       "      <td>1</td>\n",
       "      <td>1</td>\n",
       "      <td>0</td>\n",
       "      <td>0</td>\n",
       "      <td>0</td>\n",
       "      <td>0</td>\n",
       "      <td>0</td>\n",
       "      <td>0</td>\n",
       "      <td>0</td>\n",
       "      <td>0</td>\n",
       "    </tr>\n",
       "    <tr>\n",
       "      <th>1337</th>\n",
       "      <td>61</td>\n",
       "      <td>29.070</td>\n",
       "      <td>29141.36030</td>\n",
       "      <td>1</td>\n",
       "      <td>0</td>\n",
       "      <td>0</td>\n",
       "      <td>0</td>\n",
       "      <td>0</td>\n",
       "      <td>0</td>\n",
       "      <td>0</td>\n",
       "      <td>0</td>\n",
       "      <td>1</td>\n",
       "      <td>0</td>\n",
       "    </tr>\n",
       "  </tbody>\n",
       "</table>\n",
       "<p>1337 rows × 13 columns</p>\n",
       "</div>"
      ],
      "text/plain": [
       "      age     bmi      charges  s_1  sm_1  ch_1  ch_2  ch_3  ch_4  ch_5  \\\n",
       "0      19  27.900  16884.92400    1     0     0     0     0     0     0   \n",
       "1      18  33.770   1725.55230    0     1     1     0     0     0     0   \n",
       "2      28  33.000   4449.46200    0     1     0     0     1     0     0   \n",
       "3      33  22.705  21984.47061    0     1     0     0     0     0     0   \n",
       "4      32  28.880   3866.85520    0     1     0     0     0     0     0   \n",
       "...   ...     ...          ...  ...   ...   ...   ...   ...   ...   ...   \n",
       "1333   50  30.970  10600.54830    0     1     0     0     1     0     0   \n",
       "1334   18  31.920   2205.98080    1     1     0     0     0     0     0   \n",
       "1335   18  36.850   1629.83350    1     1     0     0     0     0     0   \n",
       "1336   21  25.800   2007.94500    1     1     0     0     0     0     0   \n",
       "1337   61  29.070  29141.36030    1     0     0     0     0     0     0   \n",
       "\n",
       "      reg_2  reg_3  reg_4  \n",
       "0         0      0      0  \n",
       "1         1      0      0  \n",
       "2         1      0      0  \n",
       "3         0      1      0  \n",
       "4         0      1      0  \n",
       "...     ...    ...    ...  \n",
       "1333      0      1      0  \n",
       "1334      0      0      1  \n",
       "1335      1      0      0  \n",
       "1336      0      0      0  \n",
       "1337      0      1      0  \n",
       "\n",
       "[1337 rows x 13 columns]"
      ]
     },
     "execution_count": 23,
     "metadata": {},
     "output_type": "execute_result"
    }
   ],
   "source": [
    "dummy_1= pd.get_dummies(data=df, columns=['sex'],prefix='s', drop_first=True)\n",
    "dummy_1\n",
    "dummy_2= pd.get_dummies(data=dummy_1, columns=['smoker'],prefix='sm', drop_first=True)\n",
    "dummy_2\n",
    "dummy_3= pd.get_dummies(data=dummy_2, columns=['children'],prefix='ch', drop_first=True)\n",
    "dummy_3\n",
    "dummy_4= pd.get_dummies(data=dummy_3, columns=['region'],prefix='reg', drop_first=True)\n",
    "dummy_4\n",
    "\n"
   ]
  },
  {
   "cell_type": "code",
   "execution_count": 24,
   "metadata": {
    "scrolled": true
   },
   "outputs": [
    {
     "data": {
      "text/html": [
       "<table class=\"simpletable\">\n",
       "<caption>OLS Regression Results</caption>\n",
       "<tr>\n",
       "  <th>Dep. Variable:</th>         <td>charges</td>     <th>  R-squared:         </th> <td>   0.752</td> \n",
       "</tr>\n",
       "<tr>\n",
       "  <th>Model:</th>                   <td>OLS</td>       <th>  Adj. R-squared:    </th> <td>   0.750</td> \n",
       "</tr>\n",
       "<tr>\n",
       "  <th>Method:</th>             <td>Least Squares</td>  <th>  F-statistic:       </th> <td>   334.1</td> \n",
       "</tr>\n",
       "<tr>\n",
       "  <th>Date:</th>             <td>Sun, 26 Feb 2023</td> <th>  Prob (F-statistic):</th>  <td>  0.00</td>  \n",
       "</tr>\n",
       "<tr>\n",
       "  <th>Time:</th>                 <td>21:07:10</td>     <th>  Log-Likelihood:    </th> <td> -13535.</td> \n",
       "</tr>\n",
       "<tr>\n",
       "  <th>No. Observations:</th>      <td>  1337</td>      <th>  AIC:               </th> <td>2.710e+04</td>\n",
       "</tr>\n",
       "<tr>\n",
       "  <th>Df Residuals:</th>          <td>  1324</td>      <th>  BIC:               </th> <td>2.716e+04</td>\n",
       "</tr>\n",
       "<tr>\n",
       "  <th>Df Model:</th>              <td>    12</td>      <th>                     </th>     <td> </td>    \n",
       "</tr>\n",
       "<tr>\n",
       "  <th>Covariance Type:</th>      <td>nonrobust</td>    <th>                     </th>     <td> </td>    \n",
       "</tr>\n",
       "</table>\n",
       "<table class=\"simpletable\">\n",
       "<tr>\n",
       "      <td></td>         <th>coef</th>     <th>std err</th>      <th>t</th>      <th>P>|t|</th>  <th>[0.025</th>    <th>0.975]</th>  \n",
       "</tr>\n",
       "<tr>\n",
       "  <th>Intercept</th> <td> 1.083e+04</td> <td> 1077.752</td> <td>   10.050</td> <td> 0.000</td> <td> 8716.671</td> <td> 1.29e+04</td>\n",
       "</tr>\n",
       "<tr>\n",
       "  <th>age</th>       <td>  257.1083</td> <td>   11.928</td> <td>   21.556</td> <td> 0.000</td> <td>  233.709</td> <td>  280.507</td>\n",
       "</tr>\n",
       "<tr>\n",
       "  <th>bmi</th>       <td>  336.9626</td> <td>   28.624</td> <td>   11.772</td> <td> 0.000</td> <td>  280.809</td> <td>  393.116</td>\n",
       "</tr>\n",
       "<tr>\n",
       "  <th>s_1</th>       <td>  126.4424</td> <td>  333.085</td> <td>    0.380</td> <td> 0.704</td> <td> -526.990</td> <td>  779.875</td>\n",
       "</tr>\n",
       "<tr>\n",
       "  <th>sm_1</th>      <td>-2.384e+04</td> <td>  414.334</td> <td>  -57.527</td> <td> 0.000</td> <td>-2.46e+04</td> <td> -2.3e+04</td>\n",
       "</tr>\n",
       "<tr>\n",
       "  <th>ch_1</th>      <td>  389.0683</td> <td>  421.630</td> <td>    0.923</td> <td> 0.356</td> <td> -438.068</td> <td> 1216.205</td>\n",
       "</tr>\n",
       "<tr>\n",
       "  <th>ch_2</th>      <td> 1633.7392</td> <td>  466.970</td> <td>    3.499</td> <td> 0.000</td> <td>  717.657</td> <td> 2549.822</td>\n",
       "</tr>\n",
       "<tr>\n",
       "  <th>ch_3</th>      <td>  962.4373</td> <td>  548.394</td> <td>    1.755</td> <td> 0.079</td> <td> -113.378</td> <td> 2038.253</td>\n",
       "</tr>\n",
       "<tr>\n",
       "  <th>ch_4</th>      <td> 2945.1623</td> <td> 1239.673</td> <td>    2.376</td> <td> 0.018</td> <td>  513.225</td> <td> 5377.099</td>\n",
       "</tr>\n",
       "<tr>\n",
       "  <th>ch_5</th>      <td> 1114.2598</td> <td> 1456.578</td> <td>    0.765</td> <td> 0.444</td> <td>-1743.193</td> <td> 3971.712</td>\n",
       "</tr>\n",
       "<tr>\n",
       "  <th>reg_2</th>     <td>  -80.4056</td> <td>  470.732</td> <td>   -0.171</td> <td> 0.864</td> <td>-1003.867</td> <td>  843.056</td>\n",
       "</tr>\n",
       "<tr>\n",
       "  <th>reg_3</th>     <td>  576.4105</td> <td>  478.999</td> <td>    1.203</td> <td> 0.229</td> <td> -363.270</td> <td> 1516.091</td>\n",
       "</tr>\n",
       "<tr>\n",
       "  <th>reg_4</th>     <td>  952.9217</td> <td>  478.328</td> <td>    1.992</td> <td> 0.047</td> <td>   14.558</td> <td> 1891.285</td>\n",
       "</tr>\n",
       "</table>\n",
       "<table class=\"simpletable\">\n",
       "<tr>\n",
       "  <th>Omnibus:</th>       <td>293.461</td> <th>  Durbin-Watson:     </th> <td>   2.085</td> \n",
       "</tr>\n",
       "<tr>\n",
       "  <th>Prob(Omnibus):</th> <td> 0.000</td>  <th>  Jarque-Bera (JB):  </th> <td> 693.568</td> \n",
       "</tr>\n",
       "<tr>\n",
       "  <th>Skew:</th>          <td> 1.190</td>  <th>  Prob(JB):          </th> <td>2.48e-151</td>\n",
       "</tr>\n",
       "<tr>\n",
       "  <th>Kurtosis:</th>      <td> 5.604</td>  <th>  Cond. No.          </th> <td>    454.</td> \n",
       "</tr>\n",
       "</table><br/><br/>Notes:<br/>[1] Standard Errors assume that the covariance matrix of the errors is correctly specified."
      ],
      "text/plain": [
       "<class 'statsmodels.iolib.summary.Summary'>\n",
       "\"\"\"\n",
       "                            OLS Regression Results                            \n",
       "==============================================================================\n",
       "Dep. Variable:                charges   R-squared:                       0.752\n",
       "Model:                            OLS   Adj. R-squared:                  0.750\n",
       "Method:                 Least Squares   F-statistic:                     334.1\n",
       "Date:                Sun, 26 Feb 2023   Prob (F-statistic):               0.00\n",
       "Time:                        21:07:10   Log-Likelihood:                -13535.\n",
       "No. Observations:                1337   AIC:                         2.710e+04\n",
       "Df Residuals:                    1324   BIC:                         2.716e+04\n",
       "Df Model:                          12                                         \n",
       "Covariance Type:            nonrobust                                         \n",
       "==============================================================================\n",
       "                 coef    std err          t      P>|t|      [0.025      0.975]\n",
       "------------------------------------------------------------------------------\n",
       "Intercept   1.083e+04   1077.752     10.050      0.000    8716.671    1.29e+04\n",
       "age          257.1083     11.928     21.556      0.000     233.709     280.507\n",
       "bmi          336.9626     28.624     11.772      0.000     280.809     393.116\n",
       "s_1          126.4424    333.085      0.380      0.704    -526.990     779.875\n",
       "sm_1       -2.384e+04    414.334    -57.527      0.000   -2.46e+04    -2.3e+04\n",
       "ch_1         389.0683    421.630      0.923      0.356    -438.068    1216.205\n",
       "ch_2        1633.7392    466.970      3.499      0.000     717.657    2549.822\n",
       "ch_3         962.4373    548.394      1.755      0.079    -113.378    2038.253\n",
       "ch_4        2945.1623   1239.673      2.376      0.018     513.225    5377.099\n",
       "ch_5        1114.2598   1456.578      0.765      0.444   -1743.193    3971.712\n",
       "reg_2        -80.4056    470.732     -0.171      0.864   -1003.867     843.056\n",
       "reg_3        576.4105    478.999      1.203      0.229    -363.270    1516.091\n",
       "reg_4        952.9217    478.328      1.992      0.047      14.558    1891.285\n",
       "==============================================================================\n",
       "Omnibus:                      293.461   Durbin-Watson:                   2.085\n",
       "Prob(Omnibus):                  0.000   Jarque-Bera (JB):              693.568\n",
       "Skew:                           1.190   Prob(JB):                    2.48e-151\n",
       "Kurtosis:                       5.604   Cond. No.                         454.\n",
       "==============================================================================\n",
       "\n",
       "Notes:\n",
       "[1] Standard Errors assume that the covariance matrix of the errors is correctly specified.\n",
       "\"\"\""
      ]
     },
     "execution_count": 24,
     "metadata": {},
     "output_type": "execute_result"
    }
   ],
   "source": [
    "outcome = 'charges'\n",
    "x_cols = dummy_4.drop('charges',axis=1)\n",
    "predictors = '+'.join(x_cols)\n",
    "formula = outcome + '~' + predictors\n",
    "model = ols(formula=formula, data=dummy_4).fit()\n",
    "model.summary()"
   ]
  },
  {
   "cell_type": "code",
   "execution_count": 25,
   "metadata": {},
   "outputs": [
    {
     "data": {
      "text/html": [
       "<div>\n",
       "<style scoped>\n",
       "    .dataframe tbody tr th:only-of-type {\n",
       "        vertical-align: middle;\n",
       "    }\n",
       "\n",
       "    .dataframe tbody tr th {\n",
       "        vertical-align: top;\n",
       "    }\n",
       "\n",
       "    .dataframe thead th {\n",
       "        text-align: right;\n",
       "    }\n",
       "</style>\n",
       "<table border=\"1\" class=\"dataframe\">\n",
       "  <thead>\n",
       "    <tr style=\"text-align: right;\">\n",
       "      <th></th>\n",
       "      <th>age</th>\n",
       "      <th>bmi</th>\n",
       "      <th>charges</th>\n",
       "      <th>sm_1</th>\n",
       "      <th>ch_2</th>\n",
       "      <th>ch_3</th>\n",
       "      <th>ch_4</th>\n",
       "    </tr>\n",
       "  </thead>\n",
       "  <tbody>\n",
       "    <tr>\n",
       "      <th>0</th>\n",
       "      <td>19</td>\n",
       "      <td>27.900</td>\n",
       "      <td>16884.92400</td>\n",
       "      <td>0</td>\n",
       "      <td>0</td>\n",
       "      <td>0</td>\n",
       "      <td>0</td>\n",
       "    </tr>\n",
       "    <tr>\n",
       "      <th>1</th>\n",
       "      <td>18</td>\n",
       "      <td>33.770</td>\n",
       "      <td>1725.55230</td>\n",
       "      <td>1</td>\n",
       "      <td>0</td>\n",
       "      <td>0</td>\n",
       "      <td>0</td>\n",
       "    </tr>\n",
       "    <tr>\n",
       "      <th>2</th>\n",
       "      <td>28</td>\n",
       "      <td>33.000</td>\n",
       "      <td>4449.46200</td>\n",
       "      <td>1</td>\n",
       "      <td>0</td>\n",
       "      <td>1</td>\n",
       "      <td>0</td>\n",
       "    </tr>\n",
       "    <tr>\n",
       "      <th>3</th>\n",
       "      <td>33</td>\n",
       "      <td>22.705</td>\n",
       "      <td>21984.47061</td>\n",
       "      <td>1</td>\n",
       "      <td>0</td>\n",
       "      <td>0</td>\n",
       "      <td>0</td>\n",
       "    </tr>\n",
       "    <tr>\n",
       "      <th>4</th>\n",
       "      <td>32</td>\n",
       "      <td>28.880</td>\n",
       "      <td>3866.85520</td>\n",
       "      <td>1</td>\n",
       "      <td>0</td>\n",
       "      <td>0</td>\n",
       "      <td>0</td>\n",
       "    </tr>\n",
       "    <tr>\n",
       "      <th>...</th>\n",
       "      <td>...</td>\n",
       "      <td>...</td>\n",
       "      <td>...</td>\n",
       "      <td>...</td>\n",
       "      <td>...</td>\n",
       "      <td>...</td>\n",
       "      <td>...</td>\n",
       "    </tr>\n",
       "    <tr>\n",
       "      <th>1333</th>\n",
       "      <td>50</td>\n",
       "      <td>30.970</td>\n",
       "      <td>10600.54830</td>\n",
       "      <td>1</td>\n",
       "      <td>0</td>\n",
       "      <td>1</td>\n",
       "      <td>0</td>\n",
       "    </tr>\n",
       "    <tr>\n",
       "      <th>1334</th>\n",
       "      <td>18</td>\n",
       "      <td>31.920</td>\n",
       "      <td>2205.98080</td>\n",
       "      <td>1</td>\n",
       "      <td>0</td>\n",
       "      <td>0</td>\n",
       "      <td>0</td>\n",
       "    </tr>\n",
       "    <tr>\n",
       "      <th>1335</th>\n",
       "      <td>18</td>\n",
       "      <td>36.850</td>\n",
       "      <td>1629.83350</td>\n",
       "      <td>1</td>\n",
       "      <td>0</td>\n",
       "      <td>0</td>\n",
       "      <td>0</td>\n",
       "    </tr>\n",
       "    <tr>\n",
       "      <th>1336</th>\n",
       "      <td>21</td>\n",
       "      <td>25.800</td>\n",
       "      <td>2007.94500</td>\n",
       "      <td>1</td>\n",
       "      <td>0</td>\n",
       "      <td>0</td>\n",
       "      <td>0</td>\n",
       "    </tr>\n",
       "    <tr>\n",
       "      <th>1337</th>\n",
       "      <td>61</td>\n",
       "      <td>29.070</td>\n",
       "      <td>29141.36030</td>\n",
       "      <td>0</td>\n",
       "      <td>0</td>\n",
       "      <td>0</td>\n",
       "      <td>0</td>\n",
       "    </tr>\n",
       "  </tbody>\n",
       "</table>\n",
       "<p>1337 rows × 7 columns</p>\n",
       "</div>"
      ],
      "text/plain": [
       "      age     bmi      charges  sm_1  ch_2  ch_3  ch_4\n",
       "0      19  27.900  16884.92400     0     0     0     0\n",
       "1      18  33.770   1725.55230     1     0     0     0\n",
       "2      28  33.000   4449.46200     1     0     1     0\n",
       "3      33  22.705  21984.47061     1     0     0     0\n",
       "4      32  28.880   3866.85520     1     0     0     0\n",
       "...   ...     ...          ...   ...   ...   ...   ...\n",
       "1333   50  30.970  10600.54830     1     0     1     0\n",
       "1334   18  31.920   2205.98080     1     0     0     0\n",
       "1335   18  36.850   1629.83350     1     0     0     0\n",
       "1336   21  25.800   2007.94500     1     0     0     0\n",
       "1337   61  29.070  29141.36030     0     0     0     0\n",
       "\n",
       "[1337 rows x 7 columns]"
      ]
     },
     "execution_count": 25,
     "metadata": {},
     "output_type": "execute_result"
    }
   ],
   "source": [
    "dff1=dummy_4.drop(['s_1','ch_1','ch_5','reg_2','reg_3','reg_4'],axis=1)\n",
    "dff1"
   ]
  },
  {
   "cell_type": "code",
   "execution_count": 26,
   "metadata": {},
   "outputs": [
    {
     "data": {
      "text/html": [
       "<table class=\"simpletable\">\n",
       "<caption>OLS Regression Results</caption>\n",
       "<tr>\n",
       "  <th>Dep. Variable:</th>         <td>charges</td>     <th>  R-squared:         </th> <td>   0.750</td> \n",
       "</tr>\n",
       "<tr>\n",
       "  <th>Model:</th>                   <td>OLS</td>       <th>  Adj. R-squared:    </th> <td>   0.749</td> \n",
       "</tr>\n",
       "<tr>\n",
       "  <th>Method:</th>             <td>Least Squares</td>  <th>  F-statistic:       </th> <td>   666.4</td> \n",
       "</tr>\n",
       "<tr>\n",
       "  <th>Date:</th>             <td>Sun, 26 Feb 2023</td> <th>  Prob (F-statistic):</th>  <td>  0.00</td>  \n",
       "</tr>\n",
       "<tr>\n",
       "  <th>Time:</th>                 <td>21:07:10</td>     <th>  Log-Likelihood:    </th> <td> -13539.</td> \n",
       "</tr>\n",
       "<tr>\n",
       "  <th>No. Observations:</th>      <td>  1337</td>      <th>  AIC:               </th> <td>2.709e+04</td>\n",
       "</tr>\n",
       "<tr>\n",
       "  <th>Df Residuals:</th>          <td>  1330</td>      <th>  BIC:               </th> <td>2.713e+04</td>\n",
       "</tr>\n",
       "<tr>\n",
       "  <th>Df Model:</th>              <td>     6</td>      <th>                     </th>     <td> </td>    \n",
       "</tr>\n",
       "<tr>\n",
       "  <th>Covariance Type:</th>      <td>nonrobust</td>    <th>                     </th>     <td> </td>    \n",
       "</tr>\n",
       "</table>\n",
       "<table class=\"simpletable\">\n",
       "<tr>\n",
       "      <td></td>         <th>coef</th>     <th>std err</th>      <th>t</th>      <th>P>|t|</th>  <th>[0.025</th>    <th>0.975]</th>  \n",
       "</tr>\n",
       "<tr>\n",
       "  <th>Intercept</th> <td> 1.184e+04</td> <td>  986.732</td> <td>   12.004</td> <td> 0.000</td> <td> 9908.977</td> <td> 1.38e+04</td>\n",
       "</tr>\n",
       "<tr>\n",
       "  <th>age</th>       <td>  258.1182</td> <td>   11.913</td> <td>   21.667</td> <td> 0.000</td> <td>  234.748</td> <td>  281.489</td>\n",
       "</tr>\n",
       "<tr>\n",
       "  <th>bmi</th>       <td>  319.6454</td> <td>   27.372</td> <td>   11.678</td> <td> 0.000</td> <td>  265.948</td> <td>  373.343</td>\n",
       "</tr>\n",
       "<tr>\n",
       "  <th>sm_1</th>      <td>-2.378e+04</td> <td>  411.730</td> <td>  -57.763</td> <td> 0.000</td> <td>-2.46e+04</td> <td> -2.3e+04</td>\n",
       "</tr>\n",
       "<tr>\n",
       "  <th>ch_2</th>      <td> 1477.7344</td> <td>  440.236</td> <td>    3.357</td> <td> 0.001</td> <td>  614.101</td> <td> 2341.367</td>\n",
       "</tr>\n",
       "<tr>\n",
       "  <th>ch_3</th>      <td>  848.3077</td> <td>  525.419</td> <td>    1.615</td> <td> 0.107</td> <td> -182.433</td> <td> 1879.049</td>\n",
       "</tr>\n",
       "<tr>\n",
       "  <th>ch_4</th>      <td> 2834.1479</td> <td> 1229.852</td> <td>    2.304</td> <td> 0.021</td> <td>  421.486</td> <td> 5246.810</td>\n",
       "</tr>\n",
       "</table>\n",
       "<table class=\"simpletable\">\n",
       "<tr>\n",
       "  <th>Omnibus:</th>       <td>295.108</td> <th>  Durbin-Watson:     </th> <td>   2.082</td> \n",
       "</tr>\n",
       "<tr>\n",
       "  <th>Prob(Omnibus):</th> <td> 0.000</td>  <th>  Jarque-Bera (JB):  </th> <td> 697.275</td> \n",
       "</tr>\n",
       "<tr>\n",
       "  <th>Skew:</th>          <td> 1.197</td>  <th>  Prob(JB):          </th> <td>3.88e-152</td>\n",
       "</tr>\n",
       "<tr>\n",
       "  <th>Kurtosis:</th>      <td> 5.605</td>  <th>  Cond. No.          </th> <td>    381.</td> \n",
       "</tr>\n",
       "</table><br/><br/>Notes:<br/>[1] Standard Errors assume that the covariance matrix of the errors is correctly specified."
      ],
      "text/plain": [
       "<class 'statsmodels.iolib.summary.Summary'>\n",
       "\"\"\"\n",
       "                            OLS Regression Results                            \n",
       "==============================================================================\n",
       "Dep. Variable:                charges   R-squared:                       0.750\n",
       "Model:                            OLS   Adj. R-squared:                  0.749\n",
       "Method:                 Least Squares   F-statistic:                     666.4\n",
       "Date:                Sun, 26 Feb 2023   Prob (F-statistic):               0.00\n",
       "Time:                        21:07:10   Log-Likelihood:                -13539.\n",
       "No. Observations:                1337   AIC:                         2.709e+04\n",
       "Df Residuals:                    1330   BIC:                         2.713e+04\n",
       "Df Model:                           6                                         \n",
       "Covariance Type:            nonrobust                                         \n",
       "==============================================================================\n",
       "                 coef    std err          t      P>|t|      [0.025      0.975]\n",
       "------------------------------------------------------------------------------\n",
       "Intercept   1.184e+04    986.732     12.004      0.000    9908.977    1.38e+04\n",
       "age          258.1182     11.913     21.667      0.000     234.748     281.489\n",
       "bmi          319.6454     27.372     11.678      0.000     265.948     373.343\n",
       "sm_1       -2.378e+04    411.730    -57.763      0.000   -2.46e+04    -2.3e+04\n",
       "ch_2        1477.7344    440.236      3.357      0.001     614.101    2341.367\n",
       "ch_3         848.3077    525.419      1.615      0.107    -182.433    1879.049\n",
       "ch_4        2834.1479   1229.852      2.304      0.021     421.486    5246.810\n",
       "==============================================================================\n",
       "Omnibus:                      295.108   Durbin-Watson:                   2.082\n",
       "Prob(Omnibus):                  0.000   Jarque-Bera (JB):              697.275\n",
       "Skew:                           1.197   Prob(JB):                    3.88e-152\n",
       "Kurtosis:                       5.605   Cond. No.                         381.\n",
       "==============================================================================\n",
       "\n",
       "Notes:\n",
       "[1] Standard Errors assume that the covariance matrix of the errors is correctly specified.\n",
       "\"\"\""
      ]
     },
     "execution_count": 26,
     "metadata": {},
     "output_type": "execute_result"
    }
   ],
   "source": [
    "outcome = 'charges'\n",
    "x_cols = dff1.drop('charges',axis=1)\n",
    "predictors = '+'.join(x_cols)\n",
    "formula = outcome + '~' + predictors\n",
    "model = ols(formula=formula, data=dff1).fit()\n",
    "model.summary()"
   ]
  },
  {
   "cell_type": "code",
   "execution_count": 27,
   "metadata": {},
   "outputs": [
    {
     "data": {
      "text/html": [
       "<div>\n",
       "<style scoped>\n",
       "    .dataframe tbody tr th:only-of-type {\n",
       "        vertical-align: middle;\n",
       "    }\n",
       "\n",
       "    .dataframe tbody tr th {\n",
       "        vertical-align: top;\n",
       "    }\n",
       "\n",
       "    .dataframe thead th {\n",
       "        text-align: right;\n",
       "    }\n",
       "</style>\n",
       "<table border=\"1\" class=\"dataframe\">\n",
       "  <thead>\n",
       "    <tr style=\"text-align: right;\">\n",
       "      <th></th>\n",
       "      <th>age</th>\n",
       "      <th>bmi</th>\n",
       "      <th>charges</th>\n",
       "      <th>sm_1</th>\n",
       "      <th>ch_2</th>\n",
       "      <th>ch_4</th>\n",
       "    </tr>\n",
       "  </thead>\n",
       "  <tbody>\n",
       "    <tr>\n",
       "      <th>0</th>\n",
       "      <td>19</td>\n",
       "      <td>27.900</td>\n",
       "      <td>16884.92400</td>\n",
       "      <td>0</td>\n",
       "      <td>0</td>\n",
       "      <td>0</td>\n",
       "    </tr>\n",
       "    <tr>\n",
       "      <th>1</th>\n",
       "      <td>18</td>\n",
       "      <td>33.770</td>\n",
       "      <td>1725.55230</td>\n",
       "      <td>1</td>\n",
       "      <td>0</td>\n",
       "      <td>0</td>\n",
       "    </tr>\n",
       "    <tr>\n",
       "      <th>2</th>\n",
       "      <td>28</td>\n",
       "      <td>33.000</td>\n",
       "      <td>4449.46200</td>\n",
       "      <td>1</td>\n",
       "      <td>0</td>\n",
       "      <td>0</td>\n",
       "    </tr>\n",
       "    <tr>\n",
       "      <th>3</th>\n",
       "      <td>33</td>\n",
       "      <td>22.705</td>\n",
       "      <td>21984.47061</td>\n",
       "      <td>1</td>\n",
       "      <td>0</td>\n",
       "      <td>0</td>\n",
       "    </tr>\n",
       "    <tr>\n",
       "      <th>4</th>\n",
       "      <td>32</td>\n",
       "      <td>28.880</td>\n",
       "      <td>3866.85520</td>\n",
       "      <td>1</td>\n",
       "      <td>0</td>\n",
       "      <td>0</td>\n",
       "    </tr>\n",
       "    <tr>\n",
       "      <th>...</th>\n",
       "      <td>...</td>\n",
       "      <td>...</td>\n",
       "      <td>...</td>\n",
       "      <td>...</td>\n",
       "      <td>...</td>\n",
       "      <td>...</td>\n",
       "    </tr>\n",
       "    <tr>\n",
       "      <th>1333</th>\n",
       "      <td>50</td>\n",
       "      <td>30.970</td>\n",
       "      <td>10600.54830</td>\n",
       "      <td>1</td>\n",
       "      <td>0</td>\n",
       "      <td>0</td>\n",
       "    </tr>\n",
       "    <tr>\n",
       "      <th>1334</th>\n",
       "      <td>18</td>\n",
       "      <td>31.920</td>\n",
       "      <td>2205.98080</td>\n",
       "      <td>1</td>\n",
       "      <td>0</td>\n",
       "      <td>0</td>\n",
       "    </tr>\n",
       "    <tr>\n",
       "      <th>1335</th>\n",
       "      <td>18</td>\n",
       "      <td>36.850</td>\n",
       "      <td>1629.83350</td>\n",
       "      <td>1</td>\n",
       "      <td>0</td>\n",
       "      <td>0</td>\n",
       "    </tr>\n",
       "    <tr>\n",
       "      <th>1336</th>\n",
       "      <td>21</td>\n",
       "      <td>25.800</td>\n",
       "      <td>2007.94500</td>\n",
       "      <td>1</td>\n",
       "      <td>0</td>\n",
       "      <td>0</td>\n",
       "    </tr>\n",
       "    <tr>\n",
       "      <th>1337</th>\n",
       "      <td>61</td>\n",
       "      <td>29.070</td>\n",
       "      <td>29141.36030</td>\n",
       "      <td>0</td>\n",
       "      <td>0</td>\n",
       "      <td>0</td>\n",
       "    </tr>\n",
       "  </tbody>\n",
       "</table>\n",
       "<p>1337 rows × 6 columns</p>\n",
       "</div>"
      ],
      "text/plain": [
       "      age     bmi      charges  sm_1  ch_2  ch_4\n",
       "0      19  27.900  16884.92400     0     0     0\n",
       "1      18  33.770   1725.55230     1     0     0\n",
       "2      28  33.000   4449.46200     1     0     0\n",
       "3      33  22.705  21984.47061     1     0     0\n",
       "4      32  28.880   3866.85520     1     0     0\n",
       "...   ...     ...          ...   ...   ...   ...\n",
       "1333   50  30.970  10600.54830     1     0     0\n",
       "1334   18  31.920   2205.98080     1     0     0\n",
       "1335   18  36.850   1629.83350     1     0     0\n",
       "1336   21  25.800   2007.94500     1     0     0\n",
       "1337   61  29.070  29141.36030     0     0     0\n",
       "\n",
       "[1337 rows x 6 columns]"
      ]
     },
     "execution_count": 27,
     "metadata": {},
     "output_type": "execute_result"
    }
   ],
   "source": [
    "dff2=dff1.drop(['ch_3'],axis=1)\n",
    "dff2"
   ]
  },
  {
   "cell_type": "code",
   "execution_count": 28,
   "metadata": {},
   "outputs": [
    {
     "data": {
      "text/html": [
       "<table class=\"simpletable\">\n",
       "<caption>OLS Regression Results</caption>\n",
       "<tr>\n",
       "  <th>Dep. Variable:</th>         <td>charges</td>     <th>  R-squared:         </th> <td>   0.750</td> \n",
       "</tr>\n",
       "<tr>\n",
       "  <th>Model:</th>                   <td>OLS</td>       <th>  Adj. R-squared:    </th> <td>   0.749</td> \n",
       "</tr>\n",
       "<tr>\n",
       "  <th>Method:</th>             <td>Least Squares</td>  <th>  F-statistic:       </th> <td>   798.2</td> \n",
       "</tr>\n",
       "<tr>\n",
       "  <th>Date:</th>             <td>Sun, 26 Feb 2023</td> <th>  Prob (F-statistic):</th>  <td>  0.00</td>  \n",
       "</tr>\n",
       "<tr>\n",
       "  <th>Time:</th>                 <td>21:07:10</td>     <th>  Log-Likelihood:    </th> <td> -13540.</td> \n",
       "</tr>\n",
       "<tr>\n",
       "  <th>No. Observations:</th>      <td>  1337</td>      <th>  AIC:               </th> <td>2.709e+04</td>\n",
       "</tr>\n",
       "<tr>\n",
       "  <th>Df Residuals:</th>          <td>  1331</td>      <th>  BIC:               </th> <td>2.712e+04</td>\n",
       "</tr>\n",
       "<tr>\n",
       "  <th>Df Model:</th>              <td>     5</td>      <th>                     </th>     <td> </td>    \n",
       "</tr>\n",
       "<tr>\n",
       "  <th>Covariance Type:</th>      <td>nonrobust</td>    <th>                     </th>     <td> </td>    \n",
       "</tr>\n",
       "</table>\n",
       "<table class=\"simpletable\">\n",
       "<tr>\n",
       "      <td></td>         <th>coef</th>     <th>std err</th>      <th>t</th>      <th>P>|t|</th>  <th>[0.025</th>    <th>0.975]</th>  \n",
       "</tr>\n",
       "<tr>\n",
       "  <th>Intercept</th> <td> 1.195e+04</td> <td>  985.355</td> <td>   12.123</td> <td> 0.000</td> <td>    1e+04</td> <td> 1.39e+04</td>\n",
       "</tr>\n",
       "<tr>\n",
       "  <th>age</th>       <td>  259.3494</td> <td>   11.896</td> <td>   21.802</td> <td> 0.000</td> <td>  236.013</td> <td>  282.686</td>\n",
       "</tr>\n",
       "<tr>\n",
       "  <th>bmi</th>       <td>  319.6190</td> <td>   27.389</td> <td>   11.670</td> <td> 0.000</td> <td>  265.889</td> <td>  373.349</td>\n",
       "</tr>\n",
       "<tr>\n",
       "  <th>sm_1</th>      <td>-2.381e+04</td> <td>  411.564</td> <td>  -57.859</td> <td> 0.000</td> <td>-2.46e+04</td> <td> -2.3e+04</td>\n",
       "</tr>\n",
       "<tr>\n",
       "  <th>ch_2</th>      <td> 1352.3495</td> <td>  433.594</td> <td>    3.119</td> <td> 0.002</td> <td>  501.748</td> <td> 2202.951</td>\n",
       "</tr>\n",
       "<tr>\n",
       "  <th>ch_4</th>      <td> 2712.5801</td> <td> 1228.286</td> <td>    2.208</td> <td> 0.027</td> <td>  302.993</td> <td> 5122.167</td>\n",
       "</tr>\n",
       "</table>\n",
       "<table class=\"simpletable\">\n",
       "<tr>\n",
       "  <th>Omnibus:</th>       <td>291.437</td> <th>  Durbin-Watson:     </th> <td>   2.077</td> \n",
       "</tr>\n",
       "<tr>\n",
       "  <th>Prob(Omnibus):</th> <td> 0.000</td>  <th>  Jarque-Bera (JB):  </th> <td> 681.388</td> \n",
       "</tr>\n",
       "<tr>\n",
       "  <th>Skew:</th>          <td> 1.187</td>  <th>  Prob(JB):          </th> <td>1.09e-148</td>\n",
       "</tr>\n",
       "<tr>\n",
       "  <th>Kurtosis:</th>      <td> 5.568</td>  <th>  Cond. No.          </th> <td>    380.</td> \n",
       "</tr>\n",
       "</table><br/><br/>Notes:<br/>[1] Standard Errors assume that the covariance matrix of the errors is correctly specified."
      ],
      "text/plain": [
       "<class 'statsmodels.iolib.summary.Summary'>\n",
       "\"\"\"\n",
       "                            OLS Regression Results                            \n",
       "==============================================================================\n",
       "Dep. Variable:                charges   R-squared:                       0.750\n",
       "Model:                            OLS   Adj. R-squared:                  0.749\n",
       "Method:                 Least Squares   F-statistic:                     798.2\n",
       "Date:                Sun, 26 Feb 2023   Prob (F-statistic):               0.00\n",
       "Time:                        21:07:10   Log-Likelihood:                -13540.\n",
       "No. Observations:                1337   AIC:                         2.709e+04\n",
       "Df Residuals:                    1331   BIC:                         2.712e+04\n",
       "Df Model:                           5                                         \n",
       "Covariance Type:            nonrobust                                         \n",
       "==============================================================================\n",
       "                 coef    std err          t      P>|t|      [0.025      0.975]\n",
       "------------------------------------------------------------------------------\n",
       "Intercept   1.195e+04    985.355     12.123      0.000       1e+04    1.39e+04\n",
       "age          259.3494     11.896     21.802      0.000     236.013     282.686\n",
       "bmi          319.6190     27.389     11.670      0.000     265.889     373.349\n",
       "sm_1       -2.381e+04    411.564    -57.859      0.000   -2.46e+04    -2.3e+04\n",
       "ch_2        1352.3495    433.594      3.119      0.002     501.748    2202.951\n",
       "ch_4        2712.5801   1228.286      2.208      0.027     302.993    5122.167\n",
       "==============================================================================\n",
       "Omnibus:                      291.437   Durbin-Watson:                   2.077\n",
       "Prob(Omnibus):                  0.000   Jarque-Bera (JB):              681.388\n",
       "Skew:                           1.187   Prob(JB):                    1.09e-148\n",
       "Kurtosis:                       5.568   Cond. No.                         380.\n",
       "==============================================================================\n",
       "\n",
       "Notes:\n",
       "[1] Standard Errors assume that the covariance matrix of the errors is correctly specified.\n",
       "\"\"\""
      ]
     },
     "execution_count": 28,
     "metadata": {},
     "output_type": "execute_result"
    }
   ],
   "source": [
    "outcome = 'charges'\n",
    "x_cols = dff2.drop('charges',axis=1)\n",
    "predictors = '+'.join(x_cols)\n",
    "formula = outcome + '~' + predictors\n",
    "model = ols(formula=formula, data=dff2).fit()\n",
    "model.summary()"
   ]
  },
  {
   "cell_type": "code",
   "execution_count": 29,
   "metadata": {
    "scrolled": true
   },
   "outputs": [
    {
     "data": {
      "image/png": "[encoded data removed]",
      "text/plain": [
       "<Figure size 432x288 with 1 Axes>"
      ]
     },
     "metadata": {},
     "output_type": "display_data"
    }
   ],
   "source": [
    "# Q-Q plot and Regression plot\n",
    "model=smf.ols(formula,data=dff2).fit()\n",
    "fig = sm.graphics.qqplot(model.resid, line='45',fit=True);"
   ]
  },
  {
   "cell_type": "code",
   "execution_count": 30,
   "metadata": {},
   "outputs": [],
   "source": [
    "#Independent varialbe\n",
    "X=dff2.drop(columns='charges',axis=1)\n",
    "#Dependent variable\n",
    "y=dff2['charges']"
   ]
  },
  {
   "cell_type": "code",
   "execution_count": 31,
   "metadata": {},
   "outputs": [],
   "source": [
    "X_train, X_test, y_train, y_test = train_test_split(X,y,test_size=0.2,random_state=101)\n"
   ]
  },
  {
   "cell_type": "code",
   "execution_count": 32,
   "metadata": {},
   "outputs": [
    {
     "data": {
      "text/plain": [
       "LinearRegression()"
      ]
     },
     "execution_count": 32,
     "metadata": {},
     "output_type": "execute_result"
    }
   ],
   "source": [
    "lm=LinearRegression()\n",
    "lm.fit(X_train,y_train)"
   ]
  },
  {
   "cell_type": "code",
   "execution_count": 33,
   "metadata": {},
   "outputs": [
    {
     "data": {
      "text/plain": [
       "array([11296.01066886,  5381.7702395 , 15554.13010863, ...,\n",
       "       13686.1410004 ,  5677.50932887,  9294.23709869])"
      ]
     },
     "execution_count": 33,
     "metadata": {},
     "output_type": "execute_result"
    }
   ],
   "source": [
    "y_predict_train= lm.predict(X_train)\n",
    "y_predict_train"
   ]
  },
  {
   "cell_type": "code",
   "execution_count": 34,
   "metadata": {},
   "outputs": [
    {
     "data": {
      "text/plain": [
       "array([ 9962.96020182,  2690.26793395,  3696.1971618 , 14225.13322934,\n",
       "        8423.72214909,   243.3035617 , 15105.77784165,  6503.95195717,\n",
       "       10602.82309429,  5735.97605701, 10235.48391501, 11493.15417901,\n",
       "       14767.69728615, 12615.5202823 ,  9502.85753452, 37487.76580082,\n",
       "        8550.34207778, 12674.03465875, 15550.27572744, 14292.34665875,\n",
       "         275.22994067, 28695.83887208, 33253.25727924, 13393.12018563,\n",
       "       26798.19559806, 25612.52096597, 11805.44977087, 13351.37059694,\n",
       "        6443.20106603,  6098.73224034,  5670.78798593,  8880.97267559,\n",
       "        3047.14150664,  3296.8691343 ,   333.39929453,  5225.15399356,\n",
       "        8161.54212612, 10979.21829894, 14077.8079138 ,   410.05234148,\n",
       "       10763.64161513, 33509.32265766,  9062.90694622,  9714.56788731,\n",
       "       31287.60949181,  6537.59437036, 28030.42592099,  2949.18832429,\n",
       "       33632.96263595,  2151.02885014,  -410.9894361 ,  3052.82491072,\n",
       "        7069.43401588,  9291.62894163,  3462.1844332 , 14168.5460435 ,\n",
       "       30423.42321427, 10701.07365093, 11004.76835756,  2378.36788409,\n",
       "       11857.63834638,  7416.90654063, 29899.89902952, 13437.94502133,\n",
       "       15714.12184699, 16016.76666492,  4311.29820855,  6151.4264754 ,\n",
       "       17840.72202146, 37380.45921882, 28370.59430406, 30294.23369812,\n",
       "        2943.91241204,  4217.69311711,  5754.60843724, 37742.33522913,\n",
       "       13142.99701597, 38952.61106996,  2002.76376345,  2921.17879576,\n",
       "       14296.25155936,  6021.97815456, 11781.92507058,  7390.50175558,\n",
       "        7880.29561132,  7336.74413507,  5125.90289445, -2119.24848178,\n",
       "        5583.3628794 ,  8029.28931278,  5869.90920609,  2480.27648648,\n",
       "        6104.61197986,  7501.11966283, 36066.53484173,  4087.91172351,\n",
       "        3215.96616416, 34561.15035856,  4984.96415117, 10221.28871471,\n",
       "       12071.73390101,  8191.70195145,  5433.76247957,  8683.58231058,\n",
       "       12732.50138689, 38859.94574967, 11921.05986382, 14632.97305306,\n",
       "       24447.01036271, 12473.19740437,  5270.4368405 ,  9403.16154719,\n",
       "       27467.16842717,  7308.82082444, 10674.53330176, 12771.64281852,\n",
       "       29130.40343059,  5817.17640144,  4570.06991175, 12763.78536899,\n",
       "       12180.79391363, 14765.95448117,  8019.79917581, 14336.59156683,\n",
       "        2402.93052325, 12126.09652198,  4479.4804692 , 11778.82320379,\n",
       "        4412.11835265, 11729.43912079, 29498.85496781, 29265.63332322,\n",
       "        9919.08708709,  5571.99607126,  5898.32622645,  9221.2897458 ,\n",
       "        3225.15892684,  3875.0533143 ,  3244.38318451, 37498.08272027,\n",
       "        9703.20107917,  9203.74582386, 36778.10794166, 14815.57346921,\n",
       "       11147.79610159,  3030.09129443, 14503.8221065 ,  6066.35979995,\n",
       "       39016.8593699 ,  6612.86445585,  6182.10663023, 11512.97318524,\n",
       "       10946.15581339, 12664.70515875, 40909.65797216, 12966.71045093,\n",
       "        7885.57152357, 32216.89762254,  7896.69147685,  8107.72086318,\n",
       "        5005.1786994 , 12846.46684259, 30457.63375624,  2536.07258833,\n",
       "       18993.67919057, 32008.37535443,  4894.22602147, 14063.57414392,\n",
       "       14653.12513206,  3684.83035366,  1500.19469153, 10715.6524434 ,\n",
       "       13557.64440052,  1999.25440484,  5095.68192406,  8825.27474147,\n",
       "        8810.2618374 , 30709.42531181, 29603.51754329, 13268.92402838,\n",
       "         317.23833405,  7690.40572344,  4307.14645307, 35569.25363187,\n",
       "        1360.72682552, 12636.91858544,  4900.20679982, 27256.53171172,\n",
       "       30260.67750283, 27380.82890781, 16554.62278727, 12467.74890534,\n",
       "       27937.11820384,  9383.93728951, 28949.42088093,  4707.31321288,\n",
       "       14878.68566256, 34606.81679769,  2311.15445469, 11867.17613164,\n",
       "       11178.83322883, 11830.90166175, 11383.93235623, 12690.73984838,\n",
       "        4422.20036706, 25181.31707893, 10794.38136809,   220.56994542,\n",
       "        6342.92227995,  6233.84914431, 11247.52778741, 14583.58897005,\n",
       "        5828.54320958, 26467.13375977, 11699.98416156,  4430.50387802,\n",
       "        1985.71355123, 10696.97241487, 16924.29664899,  7411.71684628,\n",
       "        9472.69770919, 11613.11236289,  9101.34351174,  7686.99453255,\n",
       "        4892.34935029,  1976.52078855, 12758.94069723,  9900.44275704,\n",
       "        4106.7909586 ,  6600.76903294,  5940.52070337,  8798.73439229,\n",
       "       10512.28130004,  7955.10768557, 12899.14912783, 33015.14331459,\n",
       "       11312.22214877,  3180.82780086, 11878.1116993 ,  5326.46784739,\n",
       "        4168.07412907, 13577.56157448,  4188.63369989,  4954.86679508,\n",
       "       16138.93746385,  5614.44765495, 10768.54588502,  2431.64491789,\n",
       "       15387.43184828,  9167.47135397,  2609.21627666,  6824.14356816,\n",
       "       11659.90295878,  5070.77426231,  9216.64428059,  6066.85350968,\n",
       "       10338.13308198, 13126.74983759, 31075.49164719,  3684.92852138,\n",
       "        1296.87406758, 34673.14097536, 28911.97173486, 13584.67845943,\n",
       "       14989.78415652,  -391.71465901, 28065.2192617 , 12504.86497865])"
      ]
     },
     "execution_count": 34,
     "metadata": {},
     "output_type": "execute_result"
    }
   ],
   "source": [
    "y_predict_test= lm.predict(X_test)\n",
    "acc_linreg=metrics.r2_score(y_test,y_predict_test)\n",
    "y_predict_test"
   ]
  },
  {
   "cell_type": "code",
   "execution_count": 35,
   "metadata": {},
   "outputs": [
    {
     "name": "stdout",
     "output_type": "stream",
     "text": [
      "R^2: 0.7475991591346649\n",
      "Adjusted R^2: 0.7464119491588166\n",
      "MAE: 4242.39872111041\n",
      "MSE: 36658430.20228838\n",
      "RMSE: 6054.620566335134\n"
     ]
    }
   ],
   "source": [
    "#model evaluation\n",
    "print('R^2:',metrics.r2_score(y_train, y_predict_train))\n",
    "print('Adjusted R^2:',1 - (1-metrics.r2_score(y_train, y_predict_train))*(len(y_train)-1)/(len(y_train)-X_train.shape[1]-1))\n",
    "print('MAE:',metrics.mean_absolute_error(y_train, y_predict_train))\n",
    "print('MSE:',metrics.mean_squared_error(y_train, y_predict_train))\n",
    "print('RMSE:',np.sqrt(metrics.mean_squared_error(y_train, y_predict_train)))"
   ]
  },
  {
   "cell_type": "code",
   "execution_count": 36,
   "metadata": {},
   "outputs": [
    {
     "name": "stdout",
     "output_type": "stream",
     "text": [
      "R^2: 0.7559022400879338\n",
      "Adjusted R^2: 0.7512438858911387\n",
      "MAE: 4099.324686626276\n",
      "MSE: 37035796.83181868\n",
      "RMSE: 6085.704300392739\n"
     ]
    }
   ],
   "source": [
    "#model evaluation-testing prediction\n",
    "\n",
    "print('R^2:',acc_linreg)\n",
    "print('Adjusted R^2:', 1- (1-metrics.r2_score(y_test,y_predict_test))*(len(y_test)-1)/(len(y_test)-X_test.shape[1]-1))\n",
    "print('MAE:',metrics.mean_absolute_error(y_test, y_predict_test))\n",
    "print('MSE:',metrics.mean_squared_error(y_test, y_predict_test))\n",
    "print('RMSE:',np.sqrt(metrics.mean_squared_error(y_test, y_predict_test)))"
   ]
  },
  {
   "cell_type": "code",
   "execution_count": 37,
   "metadata": {},
   "outputs": [],
   "source": [
    "from sklearn.linear_model import LinearRegression\n",
    "linreg = LinearRegression()\n",
    "linreg.fit(X_train, y_train)\n",
    "\n",
    "y_hat_train = linreg.predict(X_train)\n",
    "y_hat_test = linreg.predict(X_test)"
   ]
  },
  {
   "cell_type": "code",
   "execution_count": 38,
   "metadata": {},
   "outputs": [
    {
     "name": "stdout",
     "output_type": "stream",
     "text": [
      "Train Mean Squared Error: 36658430.20228838\n",
      "Test Mean Squared Error: 37035796.83181868\n",
      "Variance: -377366.62953029573\n"
     ]
    }
   ],
   "source": [
    "from sklearn.metrics import mean_squared_error\n",
    "\n",
    "train_mse = mean_squared_error(y_train, y_hat_train)\n",
    "test_mse = mean_squared_error(y_test, y_hat_test)\n",
    "variance=train_mse-test_mse\n",
    "print('Train Mean Squared Error:', train_mse)\n",
    "print('Test Mean Squared Error:', test_mse)\n",
    "print('Variance:',variance)                               "
   ]
  },
  {
   "cell_type": "code",
   "execution_count": 39,
   "metadata": {},
   "outputs": [
    {
     "name": "stdout",
     "output_type": "stream",
     "text": [
      "Variance: -377366.62953029573\n"
     ]
    }
   ],
   "source": [
    "variance=train_mse-test_mse\n",
    "print('Variance:',variance)"
   ]
  },
  {
   "cell_type": "markdown",
   "metadata": {},
   "source": [
    "## Iteration 1-Log transform"
   ]
  },
  {
   "cell_type": "code",
   "execution_count": 40,
   "metadata": {},
   "outputs": [
    {
     "data": {
      "image/png": "[encoded data removed]",
      "text/plain": [
       "<Figure size 720x720 with 6 Axes>"
      ]
     },
     "metadata": {},
     "output_type": "display_data"
    }
   ],
   "source": [
    "#Histogram for each features -before log transform\n",
    "dff2.hist(bins=10,figsize=(10,10))\n",
    "plt.show()"
   ]
  },
  {
   "cell_type": "code",
   "execution_count": 41,
   "metadata": {},
   "outputs": [
    {
     "data": {
      "image/png": "[encoded data removed]",
      "text/plain": [
       "<Figure size 1080x720 with 6 Axes>"
      ]
     },
     "metadata": {},
     "output_type": "display_data"
    }
   ],
   "source": [
    "d_log = dff2\n",
    "d_log['age'] = np.log(dff2['age'])\n",
    "d_log['bmi'] = np.log(dff2['bmi'])\n",
    "d_log['charges']=np.log(dff2['charges'])\n",
    "\n",
    "d_log.hist(figsize  = [15,10 ]);\n"
   ]
  },
  {
   "cell_type": "code",
   "execution_count": 42,
   "metadata": {},
   "outputs": [
    {
     "data": {
      "text/html": [
       "<div>\n",
       "<style scoped>\n",
       "    .dataframe tbody tr th:only-of-type {\n",
       "        vertical-align: middle;\n",
       "    }\n",
       "\n",
       "    .dataframe tbody tr th {\n",
       "        vertical-align: top;\n",
       "    }\n",
       "\n",
       "    .dataframe thead th {\n",
       "        text-align: right;\n",
       "    }\n",
       "</style>\n",
       "<table border=\"1\" class=\"dataframe\">\n",
       "  <thead>\n",
       "    <tr style=\"text-align: right;\">\n",
       "      <th></th>\n",
       "      <th>age</th>\n",
       "      <th>bmi</th>\n",
       "      <th>charges</th>\n",
       "      <th>sm_1</th>\n",
       "      <th>ch_2</th>\n",
       "      <th>ch_4</th>\n",
       "    </tr>\n",
       "  </thead>\n",
       "  <tbody>\n",
       "    <tr>\n",
       "      <th>0</th>\n",
       "      <td>2.944439</td>\n",
       "      <td>3.328627</td>\n",
       "      <td>9.734176</td>\n",
       "      <td>0</td>\n",
       "      <td>0</td>\n",
       "      <td>0</td>\n",
       "    </tr>\n",
       "    <tr>\n",
       "      <th>1</th>\n",
       "      <td>2.890372</td>\n",
       "      <td>3.519573</td>\n",
       "      <td>7.453302</td>\n",
       "      <td>1</td>\n",
       "      <td>0</td>\n",
       "      <td>0</td>\n",
       "    </tr>\n",
       "    <tr>\n",
       "      <th>2</th>\n",
       "      <td>3.332205</td>\n",
       "      <td>3.496508</td>\n",
       "      <td>8.400538</td>\n",
       "      <td>1</td>\n",
       "      <td>0</td>\n",
       "      <td>0</td>\n",
       "    </tr>\n",
       "    <tr>\n",
       "      <th>3</th>\n",
       "      <td>3.496508</td>\n",
       "      <td>3.122585</td>\n",
       "      <td>9.998092</td>\n",
       "      <td>1</td>\n",
       "      <td>0</td>\n",
       "      <td>0</td>\n",
       "    </tr>\n",
       "    <tr>\n",
       "      <th>4</th>\n",
       "      <td>3.465736</td>\n",
       "      <td>3.363149</td>\n",
       "      <td>8.260197</td>\n",
       "      <td>1</td>\n",
       "      <td>0</td>\n",
       "      <td>0</td>\n",
       "    </tr>\n",
       "    <tr>\n",
       "      <th>...</th>\n",
       "      <td>...</td>\n",
       "      <td>...</td>\n",
       "      <td>...</td>\n",
       "      <td>...</td>\n",
       "      <td>...</td>\n",
       "      <td>...</td>\n",
       "    </tr>\n",
       "    <tr>\n",
       "      <th>1333</th>\n",
       "      <td>3.912023</td>\n",
       "      <td>3.433019</td>\n",
       "      <td>9.268661</td>\n",
       "      <td>1</td>\n",
       "      <td>0</td>\n",
       "      <td>0</td>\n",
       "    </tr>\n",
       "    <tr>\n",
       "      <th>1334</th>\n",
       "      <td>2.890372</td>\n",
       "      <td>3.463233</td>\n",
       "      <td>7.698927</td>\n",
       "      <td>1</td>\n",
       "      <td>0</td>\n",
       "      <td>0</td>\n",
       "    </tr>\n",
       "    <tr>\n",
       "      <th>1335</th>\n",
       "      <td>2.890372</td>\n",
       "      <td>3.606856</td>\n",
       "      <td>7.396233</td>\n",
       "      <td>1</td>\n",
       "      <td>0</td>\n",
       "      <td>0</td>\n",
       "    </tr>\n",
       "    <tr>\n",
       "      <th>1336</th>\n",
       "      <td>3.044522</td>\n",
       "      <td>3.250374</td>\n",
       "      <td>7.604867</td>\n",
       "      <td>1</td>\n",
       "      <td>0</td>\n",
       "      <td>0</td>\n",
       "    </tr>\n",
       "    <tr>\n",
       "      <th>1337</th>\n",
       "      <td>4.110874</td>\n",
       "      <td>3.369707</td>\n",
       "      <td>10.279914</td>\n",
       "      <td>0</td>\n",
       "      <td>0</td>\n",
       "      <td>0</td>\n",
       "    </tr>\n",
       "  </tbody>\n",
       "</table>\n",
       "<p>1337 rows × 6 columns</p>\n",
       "</div>"
      ],
      "text/plain": [
       "           age       bmi    charges  sm_1  ch_2  ch_4\n",
       "0     2.944439  3.328627   9.734176     0     0     0\n",
       "1     2.890372  3.519573   7.453302     1     0     0\n",
       "2     3.332205  3.496508   8.400538     1     0     0\n",
       "3     3.496508  3.122585   9.998092     1     0     0\n",
       "4     3.465736  3.363149   8.260197     1     0     0\n",
       "...        ...       ...        ...   ...   ...   ...\n",
       "1333  3.912023  3.433019   9.268661     1     0     0\n",
       "1334  2.890372  3.463233   7.698927     1     0     0\n",
       "1335  2.890372  3.606856   7.396233     1     0     0\n",
       "1336  3.044522  3.250374   7.604867     1     0     0\n",
       "1337  4.110874  3.369707  10.279914     0     0     0\n",
       "\n",
       "[1337 rows x 6 columns]"
      ]
     },
     "execution_count": 42,
     "metadata": {},
     "output_type": "execute_result"
    }
   ],
   "source": [
    "d_log"
   ]
  },
  {
   "cell_type": "code",
   "execution_count": 43,
   "metadata": {},
   "outputs": [
    {
     "data": {
      "text/html": [
       "<table class=\"simpletable\">\n",
       "<caption>OLS Regression Results</caption>\n",
       "<tr>\n",
       "  <th>Dep. Variable:</th>         <td>charges</td>     <th>  R-squared:         </th> <td>   0.759</td>\n",
       "</tr>\n",
       "<tr>\n",
       "  <th>Model:</th>                   <td>OLS</td>       <th>  Adj. R-squared:    </th> <td>   0.758</td>\n",
       "</tr>\n",
       "<tr>\n",
       "  <th>Method:</th>             <td>Least Squares</td>  <th>  F-statistic:       </th> <td>   836.3</td>\n",
       "</tr>\n",
       "<tr>\n",
       "  <th>Date:</th>             <td>Sun, 26 Feb 2023</td> <th>  Prob (F-statistic):</th>  <td>  0.00</td> \n",
       "</tr>\n",
       "<tr>\n",
       "  <th>Time:</th>                 <td>21:07:13</td>     <th>  Log-Likelihood:    </th> <td> -833.25</td>\n",
       "</tr>\n",
       "<tr>\n",
       "  <th>No. Observations:</th>      <td>  1337</td>      <th>  AIC:               </th> <td>   1679.</td>\n",
       "</tr>\n",
       "<tr>\n",
       "  <th>Df Residuals:</th>          <td>  1331</td>      <th>  BIC:               </th> <td>   1710.</td>\n",
       "</tr>\n",
       "<tr>\n",
       "  <th>Df Model:</th>              <td>     5</td>      <th>                     </th>     <td> </td>   \n",
       "</tr>\n",
       "<tr>\n",
       "  <th>Covariance Type:</th>      <td>nonrobust</td>    <th>                     </th>     <td> </td>   \n",
       "</tr>\n",
       "</table>\n",
       "<table class=\"simpletable\">\n",
       "<tr>\n",
       "      <td></td>         <th>coef</th>     <th>std err</th>      <th>t</th>      <th>P>|t|</th>  <th>[0.025</th>    <th>0.975]</th>  \n",
       "</tr>\n",
       "<tr>\n",
       "  <th>Intercept</th> <td>    4.5500</td> <td>    0.229</td> <td>   19.896</td> <td> 0.000</td> <td>    4.101</td> <td>    4.999</td>\n",
       "</tr>\n",
       "<tr>\n",
       "  <th>age</th>       <td>    1.2680</td> <td>    0.032</td> <td>   39.726</td> <td> 0.000</td> <td>    1.205</td> <td>    1.331</td>\n",
       "</tr>\n",
       "<tr>\n",
       "  <th>bmi</th>       <td>    0.3465</td> <td>    0.061</td> <td>    5.636</td> <td> 0.000</td> <td>    0.226</td> <td>    0.467</td>\n",
       "</tr>\n",
       "<tr>\n",
       "  <th>sm_1</th>      <td>   -1.5427</td> <td>    0.031</td> <td>  -50.292</td> <td> 0.000</td> <td>   -1.603</td> <td>   -1.483</td>\n",
       "</tr>\n",
       "<tr>\n",
       "  <th>ch_2</th>      <td>    0.1563</td> <td>    0.032</td> <td>    4.834</td> <td> 0.000</td> <td>    0.093</td> <td>    0.220</td>\n",
       "</tr>\n",
       "<tr>\n",
       "  <th>ch_4</th>      <td>    0.3954</td> <td>    0.092</td> <td>    4.318</td> <td> 0.000</td> <td>    0.216</td> <td>    0.575</td>\n",
       "</tr>\n",
       "</table>\n",
       "<table class=\"simpletable\">\n",
       "<tr>\n",
       "  <th>Omnibus:</th>       <td>444.157</td> <th>  Durbin-Watson:     </th> <td>   2.036</td>\n",
       "</tr>\n",
       "<tr>\n",
       "  <th>Prob(Omnibus):</th> <td> 0.000</td>  <th>  Jarque-Bera (JB):  </th> <td>1499.450</td>\n",
       "</tr>\n",
       "<tr>\n",
       "  <th>Skew:</th>          <td> 1.630</td>  <th>  Prob(JB):          </th> <td>    0.00</td>\n",
       "</tr>\n",
       "<tr>\n",
       "  <th>Kurtosis:</th>      <td> 7.035</td>  <th>  Cond. No.          </th> <td>    97.5</td>\n",
       "</tr>\n",
       "</table><br/><br/>Notes:<br/>[1] Standard Errors assume that the covariance matrix of the errors is correctly specified."
      ],
      "text/plain": [
       "<class 'statsmodels.iolib.summary.Summary'>\n",
       "\"\"\"\n",
       "                            OLS Regression Results                            \n",
       "==============================================================================\n",
       "Dep. Variable:                charges   R-squared:                       0.759\n",
       "Model:                            OLS   Adj. R-squared:                  0.758\n",
       "Method:                 Least Squares   F-statistic:                     836.3\n",
       "Date:                Sun, 26 Feb 2023   Prob (F-statistic):               0.00\n",
       "Time:                        21:07:13   Log-Likelihood:                -833.25\n",
       "No. Observations:                1337   AIC:                             1679.\n",
       "Df Residuals:                    1331   BIC:                             1710.\n",
       "Df Model:                           5                                         \n",
       "Covariance Type:            nonrobust                                         \n",
       "==============================================================================\n",
       "                 coef    std err          t      P>|t|      [0.025      0.975]\n",
       "------------------------------------------------------------------------------\n",
       "Intercept      4.5500      0.229     19.896      0.000       4.101       4.999\n",
       "age            1.2680      0.032     39.726      0.000       1.205       1.331\n",
       "bmi            0.3465      0.061      5.636      0.000       0.226       0.467\n",
       "sm_1          -1.5427      0.031    -50.292      0.000      -1.603      -1.483\n",
       "ch_2           0.1563      0.032      4.834      0.000       0.093       0.220\n",
       "ch_4           0.3954      0.092      4.318      0.000       0.216       0.575\n",
       "==============================================================================\n",
       "Omnibus:                      444.157   Durbin-Watson:                   2.036\n",
       "Prob(Omnibus):                  0.000   Jarque-Bera (JB):             1499.450\n",
       "Skew:                           1.630   Prob(JB):                         0.00\n",
       "Kurtosis:                       7.035   Cond. No.                         97.5\n",
       "==============================================================================\n",
       "\n",
       "Notes:\n",
       "[1] Standard Errors assume that the covariance matrix of the errors is correctly specified.\n",
       "\"\"\""
      ]
     },
     "execution_count": 43,
     "metadata": {},
     "output_type": "execute_result"
    }
   ],
   "source": [
    "outcome = 'charges'\n",
    "x_cols = d_log.drop('charges',axis=1)\n",
    "predictors = '+'.join(x_cols)\n",
    "formula = outcome + '~' + predictors\n",
    "model = ols(formula=formula, data=d_log).fit()\n",
    "model.summary()"
   ]
  },
  {
   "cell_type": "code",
   "execution_count": 44,
   "metadata": {},
   "outputs": [
    {
     "data": {
      "image/png": "[encoded data removed]",
      "text/plain": [
       "<Figure size 432x288 with 1 Axes>"
      ]
     },
     "metadata": {},
     "output_type": "display_data"
    }
   ],
   "source": [
    "# Q-Q plot and Regression plot\n",
    "model=smf.ols(formula,data=d_log).fit()\n",
    "fig = sm.graphics.qqplot(model.resid, line='45',fit=True);"
   ]
  },
  {
   "cell_type": "code",
   "execution_count": 45,
   "metadata": {},
   "outputs": [],
   "source": [
    "#Independent varialbe\n",
    "X=d_log.drop(columns='charges',axis=1)\n",
    "#Dependent variable\n",
    "y=d_log['charges']"
   ]
  },
  {
   "cell_type": "code",
   "execution_count": 46,
   "metadata": {},
   "outputs": [],
   "source": [
    "from sklearn.model_selection import train_test_split\n",
    "from sklearn.preprocessing import FunctionTransformer, OneHotEncoder\n",
    "from sklearn.linear_model import LinearRegression"
   ]
  },
  {
   "cell_type": "code",
   "execution_count": 47,
   "metadata": {},
   "outputs": [],
   "source": [
    "X_train, X_test, y_train, y_test = train_test_split(X,y,test_size=0.2,random_state=101)\n"
   ]
  },
  {
   "cell_type": "code",
   "execution_count": 48,
   "metadata": {},
   "outputs": [
    {
     "data": {
      "text/plain": [
       "LinearRegression()"
      ]
     },
     "execution_count": 48,
     "metadata": {},
     "output_type": "execute_result"
    }
   ],
   "source": [
    "lm=LinearRegression()\n",
    "lm.fit(X_train,y_train)"
   ]
  },
  {
   "cell_type": "code",
   "execution_count": 49,
   "metadata": {
    "scrolled": true
   },
   "outputs": [
    {
     "data": {
      "text/plain": [
       "4.598806931019106"
      ]
     },
     "execution_count": 49,
     "metadata": {},
     "output_type": "execute_result"
    }
   ],
   "source": [
    "c=lm.intercept_\n",
    "c"
   ]
  },
  {
   "cell_type": "code",
   "execution_count": 50,
   "metadata": {},
   "outputs": [
    {
     "data": {
      "text/plain": [
       "array([ 1.23655022,  0.36351017, -1.53079084,  0.11761011,  0.3077766 ])"
      ]
     },
     "execution_count": 50,
     "metadata": {},
     "output_type": "execute_result"
    }
   ],
   "source": [
    "m=lm.coef_\n",
    "m\n"
   ]
  },
  {
   "cell_type": "code",
   "execution_count": 51,
   "metadata": {
    "scrolled": true
   },
   "outputs": [
    {
     "data": {
      "text/plain": [
       "array([9.07591817, 7.96707418, 9.28732684, ..., 9.34942685, 7.97533613,\n",
       "       9.10578018])"
      ]
     },
     "execution_count": 51,
     "metadata": {},
     "output_type": "execute_result"
    }
   ],
   "source": [
    "y_predict_train= lm.predict(X_train)\n",
    "y_predict_train"
   ]
  },
  {
   "cell_type": "code",
   "execution_count": 52,
   "metadata": {
    "scrolled": true
   },
   "outputs": [
    {
     "data": {
      "text/plain": [
       "array([ 8.87917035,  7.99373076,  8.54168683,  9.33687136,  8.40812205,\n",
       "        7.78173189,  9.43357484,  8.71337841,  9.12614768,  8.48200713,\n",
       "        8.99873967,  9.20455436,  9.53135396,  9.34981267,  8.97472451,\n",
       "       10.93310237,  8.98179742,  9.21008851,  9.38922698,  9.33882572,\n",
       "        7.7832309 ,  9.92408523, 10.64227963,  9.35324766,  9.54775699,\n",
       "        9.44974326,  9.25844095,  9.24385575,  8.88829429,  8.870431  ,\n",
       "        7.97515043,  8.95668957,  7.95241225,  8.01583899,  7.84099951,\n",
       "        8.46382784,  8.9830919 ,  9.13913985,  9.4250687 ,  7.89601487,\n",
       "        9.21865237, 10.54643085,  9.14067529,  9.07748955, 10.36444483,\n",
       "        8.16900164,  9.9001964 ,  8.23042504, 10.38989959,  8.19537767,\n",
       "        7.80335408,  7.89447636,  8.61053429,  8.80934581,  7.96679962,\n",
       "        9.42817516, 10.44405701,  9.19006761,  8.90837988,  7.92796022,\n",
       "        9.13156255,  8.99231848, 10.24162272,  9.24962347,  9.58613086,\n",
       "        9.41688529,  8.32273775,  8.29587212,  9.52191844, 10.92657611,\n",
       "        9.48402547, 10.04875688,  8.02819349,  8.04702261,  8.63327831,\n",
       "       10.58567739,  9.30386751, 10.9886214 ,  8.10811072,  8.2214692 ,\n",
       "        9.43250271,  7.98472849,  9.25758893,  8.58350626,  8.89282596,\n",
       "        8.89650649,  8.20225296,  7.64906022,  8.74229864,  8.86356109,\n",
       "        8.6637966 ,  8.45226263,  8.45947038,  8.66745413, 10.77173488,\n",
       "        7.92854236,  8.15805697, 10.38777908,  8.12377348,  9.21813441,\n",
       "        9.31773276,  9.04128425,  8.36217041,  8.86366024,  9.36519559,\n",
       "       11.0220574 ,  9.36575998,  9.38926456,  9.34552658,  9.19841784,\n",
       "        8.51080476,  8.93275392, 10.17289321,  8.87669146,  8.99444157,\n",
       "        9.29181393,  9.97542201,  8.686354  ,  8.33221528,  9.37682568,\n",
       "        9.11045929,  9.39641816,  8.43943865,  9.39672598,  7.98276982,\n",
       "        9.10016116,  8.49775505,  9.13634627,  8.32645973,  9.22764207,\n",
       "       10.25136919,  9.86219766,  9.1130218 ,  8.77958894,  8.52088224,\n",
       "        8.88112956,  8.31611371,  8.2672516 ,  7.90102627, 10.93047588,\n",
       "        9.10831401,  9.05783556, 10.85424685,  9.33788701,  9.24631859,\n",
       "        8.10553802,  9.38856144,  8.5267172 , 11.01533982,  8.60813947,\n",
       "        8.88865757,  9.33233523,  9.23821022,  8.86709712, 10.93411115,\n",
       "        9.36286011,  8.93739541, 10.5613385 ,  8.95527794,  8.68656418,\n",
       "        8.60253695,  9.23225848,  9.85193874,  8.08615501,  9.50411891,\n",
       "       10.54580249,  8.12094785,  9.37497166,  9.43227609,  8.58555134,\n",
       "        7.83652276,  9.07712013,  9.28613559,  7.85617674,  8.50386529,\n",
       "        9.0099603 ,  8.66490003, 10.21824916, 10.25378939,  9.40650295,\n",
       "        7.78519392,  8.9780623 ,  8.151323  , 10.60942305,  7.83083476,\n",
       "        9.1143142 ,  8.48414779,  9.44975884, 10.38544463, 10.185673  ,\n",
       "        9.50157896,  9.23686289, 10.02805499,  9.09546779,  9.71962014,\n",
       "        8.00683127,  9.4633262 , 10.62134116,  7.92540926,  8.98145553,\n",
       "        9.29094844,  9.21607895,  9.20074794,  9.32900467,  8.32682984,\n",
       "        9.37578177,  9.13281778,  7.97831456,  7.99326629,  8.25879869,\n",
       "        9.01117399,  9.44205535,  8.63617482, 10.047876  ,  9.28003821,\n",
       "        8.57706668,  8.22422207,  9.28499879,  9.51173354,  8.91745073,\n",
       "        8.9124896 ,  9.10978493,  8.90051686,  8.70229753,  8.66818891,\n",
       "        8.06287514,  9.13800528,  9.10058692,  8.04340556,  8.74421832,\n",
       "        8.7183384 ,  8.76515526,  8.75374984,  8.92181393,  8.92901186,\n",
       "       10.53051789,  9.28681782,  8.34822493,  9.23578296,  8.23133171,\n",
       "        8.23674481,  9.33200205,  8.31815735,  8.34586677,  9.50233896,\n",
       "        8.19289091,  9.06164452,  8.20808831,  9.45497202,  9.18826145,\n",
       "        7.8788391 ,  8.98160384,  9.23950075,  8.76299371,  8.92661741,\n",
       "        8.29906844,  9.10960262,  9.35831384, 10.30958861,  8.36999851,\n",
       "        7.82820062, 10.6940567 ,  9.64663967,  9.35958812,  9.21525331,\n",
       "        7.98325463, 10.08951516,  9.30977085])"
      ]
     },
     "execution_count": 52,
     "metadata": {},
     "output_type": "execute_result"
    }
   ],
   "source": [
    "y_predict_test= lm.predict(X_test)\n",
    "acc_linreg=metrics.r2_score(y_test,y_predict_test)\n",
    "y_predict_test"
   ]
  },
  {
   "cell_type": "code",
   "execution_count": 53,
   "metadata": {},
   "outputs": [
    {
     "name": "stdout",
     "output_type": "stream",
     "text": [
      "R^2: 0.7508321808748831\n",
      "Adjusted R^2: 0.7496601779627237\n",
      "MAE: 0.30139369976041896\n",
      "MSE: 0.20785598472780825\n",
      "RMSE: 0.45591225551394016\n"
     ]
    }
   ],
   "source": [
    "#model evaluation\n",
    "print('R^2:',metrics.r2_score(y_train, y_predict_train))\n",
    "print('Adjusted R^2:',1 - (1-metrics.r2_score(y_train, y_predict_train))*(len(y_train)-1)/(len(y_train)-X_train.shape[1]-1))\n",
    "print('MAE:',metrics.mean_absolute_error(y_train, y_predict_train))\n",
    "print('MSE:',metrics.mean_squared_error(y_train, y_predict_train))\n",
    "print('RMSE:',np.sqrt(metrics.mean_squared_error(y_train, y_predict_train)))"
   ]
  },
  {
   "cell_type": "code",
   "execution_count": 54,
   "metadata": {},
   "outputs": [
    {
     "name": "stdout",
     "output_type": "stream",
     "text": [
      "R^2: 0.7842170604969696\n",
      "Adjusted R^2: 0.7800990654682858\n",
      "MAE: 0.2926671482776501\n",
      "MSE: 0.18956530099829216\n",
      "RMSE: 0.4353909748700496\n"
     ]
    }
   ],
   "source": [
    "#model evaluation-testing prediction\n",
    "\n",
    "print('R^2:',acc_linreg)\n",
    "print('Adjusted R^2:', 1- (1-metrics.r2_score(y_test,y_predict_test))*(len(y_test)-1)/(len(y_test)-X_test.shape[1]-1))\n",
    "print('MAE:',metrics.mean_absolute_error(y_test, y_predict_test))\n",
    "print('MSE:',metrics.mean_squared_error(y_test, y_predict_test))\n",
    "print('RMSE:',np.sqrt(metrics.mean_squared_error(y_test, y_predict_test)))"
   ]
  },
  {
   "cell_type": "code",
   "execution_count": 55,
   "metadata": {
    "scrolled": true
   },
   "outputs": [
    {
     "name": "stdout",
     "output_type": "stream",
     "text": [
      "(1337, 5) (1069, 5) (268, 5)\n"
     ]
    }
   ],
   "source": [
    "print(X.shape,X_train.shape,X_test.shape)"
   ]
  },
  {
   "cell_type": "code",
   "execution_count": 56,
   "metadata": {},
   "outputs": [],
   "source": [
    "from sklearn.linear_model import LinearRegression\n",
    "linreg = LinearRegression()\n",
    "linreg.fit(X_train, y_train)\n",
    "\n",
    "y_hat_train = linreg.predict(X_train)\n",
    "y_hat_test = linreg.predict(X_test)"
   ]
  },
  {
   "cell_type": "code",
   "execution_count": 57,
   "metadata": {},
   "outputs": [
    {
     "name": "stdout",
     "output_type": "stream",
     "text": [
      "Train Mean Squared Error: 0.20785598472780825\n",
      "Test Mean Squared Error: 0.18956530099829216\n",
      "Variance: 0.01829068372951609\n"
     ]
    }
   ],
   "source": [
    "from sklearn.metrics import mean_squared_error\n",
    "\n",
    "train_mse = mean_squared_error(y_train, y_hat_train)\n",
    "test_mse = mean_squared_error(y_test, y_hat_test)\n",
    "variance=train_mse-test_mse\n",
    "print('Train Mean Squared Error:', train_mse)\n",
    "print('Test Mean Squared Error:', test_mse)\n",
    "print('Variance:',variance)                                "
   ]
  },
  {
   "cell_type": "code",
   "execution_count": 58,
   "metadata": {},
   "outputs": [
    {
     "data": {
      "text/plain": [
       "0.01829068372951609"
      ]
     },
     "execution_count": 58,
     "metadata": {},
     "output_type": "execute_result"
    }
   ],
   "source": [
    "variance= train_mse - test_mse\n",
    "variance\n"
   ]
  },
  {
   "cell_type": "code",
   "execution_count": 59,
   "metadata": {},
   "outputs": [
    {
     "data": {
      "text/html": [
       "<div>\n",
       "<style scoped>\n",
       "    .dataframe tbody tr th:only-of-type {\n",
       "        vertical-align: middle;\n",
       "    }\n",
       "\n",
       "    .dataframe tbody tr th {\n",
       "        vertical-align: top;\n",
       "    }\n",
       "\n",
       "    .dataframe thead th {\n",
       "        text-align: right;\n",
       "    }\n",
       "</style>\n",
       "<table border=\"1\" class=\"dataframe\">\n",
       "  <thead>\n",
       "    <tr style=\"text-align: right;\">\n",
       "      <th></th>\n",
       "      <th>age</th>\n",
       "      <th>bmi</th>\n",
       "      <th>charges</th>\n",
       "      <th>sm_1</th>\n",
       "      <th>ch_2</th>\n",
       "      <th>ch_4</th>\n",
       "    </tr>\n",
       "  </thead>\n",
       "  <tbody>\n",
       "    <tr>\n",
       "      <th>age</th>\n",
       "      <td>1.000000</td>\n",
       "      <td>0.109659</td>\n",
       "      <td>0.533992</td>\n",
       "      <td>0.023274</td>\n",
       "      <td>0.035445</td>\n",
       "      <td>0.005170</td>\n",
       "    </tr>\n",
       "    <tr>\n",
       "      <th>bmi</th>\n",
       "      <td>0.109659</td>\n",
       "      <td>1.000000</td>\n",
       "      <td>0.138222</td>\n",
       "      <td>-0.000399</td>\n",
       "      <td>0.017343</td>\n",
       "      <td>0.022925</td>\n",
       "    </tr>\n",
       "    <tr>\n",
       "      <th>charges</th>\n",
       "      <td>0.533992</td>\n",
       "      <td>0.138222</td>\n",
       "      <td>1.000000</td>\n",
       "      <td>-0.665718</td>\n",
       "      <td>0.101015</td>\n",
       "      <td>0.038944</td>\n",
       "    </tr>\n",
       "    <tr>\n",
       "      <th>sm_1</th>\n",
       "      <td>0.023274</td>\n",
       "      <td>-0.000399</td>\n",
       "      <td>-0.665718</td>\n",
       "      <td>1.000000</td>\n",
       "      <td>-0.028077</td>\n",
       "      <td>0.029046</td>\n",
       "    </tr>\n",
       "    <tr>\n",
       "      <th>ch_2</th>\n",
       "      <td>0.035445</td>\n",
       "      <td>0.017343</td>\n",
       "      <td>0.101015</td>\n",
       "      <td>-0.028077</td>\n",
       "      <td>1.000000</td>\n",
       "      <td>-0.064566</td>\n",
       "    </tr>\n",
       "    <tr>\n",
       "      <th>ch_4</th>\n",
       "      <td>0.005170</td>\n",
       "      <td>0.022925</td>\n",
       "      <td>0.038944</td>\n",
       "      <td>0.029046</td>\n",
       "      <td>-0.064566</td>\n",
       "      <td>1.000000</td>\n",
       "    </tr>\n",
       "  </tbody>\n",
       "</table>\n",
       "</div>"
      ],
      "text/plain": [
       "              age       bmi   charges      sm_1      ch_2      ch_4\n",
       "age      1.000000  0.109659  0.533992  0.023274  0.035445  0.005170\n",
       "bmi      0.109659  1.000000  0.138222 -0.000399  0.017343  0.022925\n",
       "charges  0.533992  0.138222  1.000000 -0.665718  0.101015  0.038944\n",
       "sm_1     0.023274 -0.000399 -0.665718  1.000000 -0.028077  0.029046\n",
       "ch_2     0.035445  0.017343  0.101015 -0.028077  1.000000 -0.064566\n",
       "ch_4     0.005170  0.022925  0.038944  0.029046 -0.064566  1.000000"
      ]
     },
     "execution_count": 59,
     "metadata": {},
     "output_type": "execute_result"
    }
   ],
   "source": [
    "d_log.corr()"
   ]
  },
  {
   "cell_type": "code",
   "execution_count": 60,
   "metadata": {
    "scrolled": true
   },
   "outputs": [
    {
     "data": {
      "text/plain": [
       "<AxesSubplot:>"
      ]
     },
     "execution_count": 60,
     "metadata": {},
     "output_type": "execute_result"
    },
    {
     "data": {
      "image/png": "[encoded data removed]",
      "text/plain": [
       "<Figure size 720x360 with 2 Axes>"
      ]
     },
     "metadata": {},
     "output_type": "display_data"
    }
   ],
   "source": [
    "plt.figure(figsize=(10,5))\n",
    "sns.heatmap(d_log.corr().round(2),annot=True)"
   ]
  },
  {
   "cell_type": "markdown",
   "metadata": {},
   "source": [
    "## Polynomial Regression\n",
    "\n"
   ]
  },
  {
   "cell_type": "code",
   "execution_count": 61,
   "metadata": {
    "scrolled": true
   },
   "outputs": [
    {
     "name": "stdout",
     "output_type": "stream",
     "text": [
      "-0.5338604523150714\n",
      "[ 0.          0.32116891  4.08356927 -0.23954045  1.01578563  0.34267336\n",
      "  0.05912651 -0.0963124   1.13628595 -0.42315143 -0.9938306  -0.32837518\n",
      " -1.51787556 -0.12906876  0.78398916 -0.23954045  0.11804948  0.69483672\n",
      "  1.01578563  0.          0.34267336]\n",
      "0.8370466230055339\n"
     ]
    }
   ],
   "source": [
    "from sklearn.model_selection import train_test_split as holdout\n",
    "from sklearn.preprocessing import PolynomialFeatures\n",
    "x = d_log.drop(['charges'], axis = 1)\n",
    "y = d_log.charges\n",
    "pol = PolynomialFeatures (degree = 2)\n",
    "x_pol = pol.fit_transform(x)\n",
    "x_train, x_test, y_train, y_test = holdout(x_pol, y, test_size=0.2, random_state=0)\n",
    "Pol_reg = LinearRegression()\n",
    "Pol_reg.fit(x_train, y_train)\n",
    "y_train_pred = Pol_reg.predict(x_train)\n",
    "y_test_pred = Pol_reg.predict(x_test)\n",
    "print(Pol_reg.intercept_)\n",
    "print(Pol_reg.coef_)\n",
    "print(Pol_reg.score(x_test, y_test))"
   ]
  },
  {
   "cell_type": "code",
   "execution_count": 62,
   "metadata": {},
   "outputs": [
    {
     "name": "stdout",
     "output_type": "stream",
     "text": [
      "Mean Absolute Error: 0.22463884111700938\n",
      "Mean Squared Error: 0.1501548127586702\n",
      "Root Mean Squared Error: 0.38749814549062067\n"
     ]
    }
   ],
   "source": [
    "print('Mean Absolute Error:', metrics.mean_absolute_error(y_train, y_train_pred))\n",
    "print('Mean Squared Error:', metrics.mean_squared_error(y_train, y_train_pred))\n",
    "print('Root Mean Squared Error:', np.sqrt(metrics.mean_squared_error(y_train, y_train_pred)))"
   ]
  },
  {
   "cell_type": "code",
   "execution_count": 63,
   "metadata": {},
   "outputs": [
    {
     "name": "stdout",
     "output_type": "stream",
     "text": [
      "Mean Absolute Error: 0.23740596949324314\n",
      "Mean Squared Error: 0.14656285738843813\n",
      "Root Mean Squared Error: 0.3828352875434005\n"
     ]
    }
   ],
   "source": [
    "##Evaluating the performance of the algorithm\n",
    "print('Mean Absolute Error:', metrics.mean_absolute_error(y_test, y_test_pred))\n",
    "print('Mean Squared Error:', metrics.mean_squared_error(y_test, y_test_pred))\n",
    "print('Root Mean Squared Error:', np.sqrt(metrics.mean_squared_error(y_test, y_test_pred)))"
   ]
  },
  {
   "cell_type": "code",
   "execution_count": 64,
   "metadata": {
    "scrolled": true
   },
   "outputs": [
    {
     "data": {
      "text/html": [
       "<div>\n",
       "<style scoped>\n",
       "    .dataframe tbody tr th:only-of-type {\n",
       "        vertical-align: middle;\n",
       "    }\n",
       "\n",
       "    .dataframe tbody tr th {\n",
       "        vertical-align: top;\n",
       "    }\n",
       "\n",
       "    .dataframe thead th {\n",
       "        text-align: right;\n",
       "    }\n",
       "</style>\n",
       "<table border=\"1\" class=\"dataframe\">\n",
       "  <thead>\n",
       "    <tr style=\"text-align: right;\">\n",
       "      <th></th>\n",
       "      <th>Actual</th>\n",
       "      <th>Predicted</th>\n",
       "      <th>Variance</th>\n",
       "    </tr>\n",
       "  </thead>\n",
       "  <tbody>\n",
       "    <tr>\n",
       "      <th>1248</th>\n",
       "      <td>7.398763</td>\n",
       "      <td>7.663362</td>\n",
       "      <td>-0.264599</td>\n",
       "    </tr>\n",
       "    <tr>\n",
       "      <th>610</th>\n",
       "      <td>9.053417</td>\n",
       "      <td>9.142139</td>\n",
       "      <td>-0.088723</td>\n",
       "    </tr>\n",
       "    <tr>\n",
       "      <th>393</th>\n",
       "      <td>9.136709</td>\n",
       "      <td>9.205100</td>\n",
       "      <td>-0.068391</td>\n",
       "    </tr>\n",
       "    <tr>\n",
       "      <th>503</th>\n",
       "      <td>10.390482</td>\n",
       "      <td>10.063189</td>\n",
       "      <td>0.327292</td>\n",
       "    </tr>\n",
       "    <tr>\n",
       "      <th>198</th>\n",
       "      <td>9.174117</td>\n",
       "      <td>9.210311</td>\n",
       "      <td>-0.036194</td>\n",
       "    </tr>\n",
       "    <tr>\n",
       "      <th>...</th>\n",
       "      <td>...</td>\n",
       "      <td>...</td>\n",
       "      <td>...</td>\n",
       "    </tr>\n",
       "    <tr>\n",
       "      <th>809</th>\n",
       "      <td>8.104641</td>\n",
       "      <td>8.153760</td>\n",
       "      <td>-0.049120</td>\n",
       "    </tr>\n",
       "    <tr>\n",
       "      <th>726</th>\n",
       "      <td>8.804578</td>\n",
       "      <td>8.926495</td>\n",
       "      <td>-0.121916</td>\n",
       "    </tr>\n",
       "    <tr>\n",
       "      <th>938</th>\n",
       "      <td>7.742403</td>\n",
       "      <td>8.166279</td>\n",
       "      <td>-0.423876</td>\n",
       "    </tr>\n",
       "    <tr>\n",
       "      <th>474</th>\n",
       "      <td>10.141807</td>\n",
       "      <td>10.199920</td>\n",
       "      <td>-0.058113</td>\n",
       "    </tr>\n",
       "    <tr>\n",
       "      <th>1084</th>\n",
       "      <td>9.617122</td>\n",
       "      <td>9.546027</td>\n",
       "      <td>0.071095</td>\n",
       "    </tr>\n",
       "  </tbody>\n",
       "</table>\n",
       "<p>268 rows × 3 columns</p>\n",
       "</div>"
      ],
      "text/plain": [
       "         Actual  Predicted  Variance\n",
       "1248   7.398763   7.663362 -0.264599\n",
       "610    9.053417   9.142139 -0.088723\n",
       "393    9.136709   9.205100 -0.068391\n",
       "503   10.390482  10.063189  0.327292\n",
       "198    9.174117   9.210311 -0.036194\n",
       "...         ...        ...       ...\n",
       "809    8.104641   8.153760 -0.049120\n",
       "726    8.804578   8.926495 -0.121916\n",
       "938    7.742403   8.166279 -0.423876\n",
       "474   10.141807  10.199920 -0.058113\n",
       "1084   9.617122   9.546027  0.071095\n",
       "\n",
       "[268 rows x 3 columns]"
      ]
     },
     "execution_count": 64,
     "metadata": {},
     "output_type": "execute_result"
    }
   ],
   "source": [
    "##Predicting the charges\n",
    "y_test_charges = Pol_reg.predict(x_test)\n",
    "##Comparing the actual output values with the predicted values\n",
    "dfp = pd.DataFrame({'Actual': y_test, 'Predicted': y_test_pred,'Variance':y_test-y_test_pred})\n",
    "dfp"
   ]
  },
  {
   "cell_type": "code",
   "execution_count": 65,
   "metadata": {},
   "outputs": [
    {
     "data": {
      "text/html": [
       "<div>\n",
       "<style scoped>\n",
       "    .dataframe tbody tr th:only-of-type {\n",
       "        vertical-align: middle;\n",
       "    }\n",
       "\n",
       "    .dataframe tbody tr th {\n",
       "        vertical-align: top;\n",
       "    }\n",
       "\n",
       "    .dataframe thead th {\n",
       "        text-align: right;\n",
       "    }\n",
       "</style>\n",
       "<table border=\"1\" class=\"dataframe\">\n",
       "  <thead>\n",
       "    <tr style=\"text-align: right;\">\n",
       "      <th></th>\n",
       "      <th>Actual</th>\n",
       "      <th>Predicted</th>\n",
       "      <th>variance</th>\n",
       "    </tr>\n",
       "  </thead>\n",
       "  <tbody>\n",
       "    <tr>\n",
       "      <th>896</th>\n",
       "      <td>9.893339</td>\n",
       "      <td>9.768671</td>\n",
       "      <td>0.124668</td>\n",
       "    </tr>\n",
       "    <tr>\n",
       "      <th>194</th>\n",
       "      <td>7.036562</td>\n",
       "      <td>7.675671</td>\n",
       "      <td>-0.639110</td>\n",
       "    </tr>\n",
       "    <tr>\n",
       "      <th>240</th>\n",
       "      <td>10.558716</td>\n",
       "      <td>10.655066</td>\n",
       "      <td>-0.096350</td>\n",
       "    </tr>\n",
       "    <tr>\n",
       "      <th>1257</th>\n",
       "      <td>9.333083</td>\n",
       "      <td>9.364757</td>\n",
       "      <td>-0.031674</td>\n",
       "    </tr>\n",
       "    <tr>\n",
       "      <th>575</th>\n",
       "      <td>9.411066</td>\n",
       "      <td>9.480065</td>\n",
       "      <td>-0.068998</td>\n",
       "    </tr>\n",
       "    <tr>\n",
       "      <th>...</th>\n",
       "      <td>...</td>\n",
       "      <td>...</td>\n",
       "      <td>...</td>\n",
       "    </tr>\n",
       "    <tr>\n",
       "      <th>764</th>\n",
       "      <td>9.115488</td>\n",
       "      <td>9.191096</td>\n",
       "      <td>-0.075608</td>\n",
       "    </tr>\n",
       "    <tr>\n",
       "      <th>836</th>\n",
       "      <td>8.389867</td>\n",
       "      <td>8.721590</td>\n",
       "      <td>-0.331722</td>\n",
       "    </tr>\n",
       "    <tr>\n",
       "      <th>1217</th>\n",
       "      <td>8.308474</td>\n",
       "      <td>8.633651</td>\n",
       "      <td>-0.325177</td>\n",
       "    </tr>\n",
       "    <tr>\n",
       "      <th>559</th>\n",
       "      <td>7.406364</td>\n",
       "      <td>7.753048</td>\n",
       "      <td>-0.346684</td>\n",
       "    </tr>\n",
       "    <tr>\n",
       "      <th>685</th>\n",
       "      <td>9.327623</td>\n",
       "      <td>9.380907</td>\n",
       "      <td>-0.053283</td>\n",
       "    </tr>\n",
       "  </tbody>\n",
       "</table>\n",
       "<p>1069 rows × 3 columns</p>\n",
       "</div>"
      ],
      "text/plain": [
       "         Actual  Predicted  variance\n",
       "896    9.893339   9.768671  0.124668\n",
       "194    7.036562   7.675671 -0.639110\n",
       "240   10.558716  10.655066 -0.096350\n",
       "1257   9.333083   9.364757 -0.031674\n",
       "575    9.411066   9.480065 -0.068998\n",
       "...         ...        ...       ...\n",
       "764    9.115488   9.191096 -0.075608\n",
       "836    8.389867   8.721590 -0.331722\n",
       "1217   8.308474   8.633651 -0.325177\n",
       "559    7.406364   7.753048 -0.346684\n",
       "685    9.327623   9.380907 -0.053283\n",
       "\n",
       "[1069 rows x 3 columns]"
      ]
     },
     "execution_count": 65,
     "metadata": {},
     "output_type": "execute_result"
    }
   ],
   "source": [
    "##Predicting the charges\n",
    "y_train_charges = Pol_reg.predict(x_train)\n",
    "##Comparing the actual output values with the predicted values\n",
    "dfp1 = pd.DataFrame({'Actual': y_train, 'Predicted': y_train_pred,'variance':y_train-y_train_pred})\n",
    "dfp1"
   ]
  },
  {
   "cell_type": "markdown",
   "metadata": {},
   "source": [
    "###### The End"
   ]
  }
 ],
 "metadata": {
  "kernelspec": {
   "display_name": "Python 3",
   "language": "python",
   "name": "python3"
  },
  "language_info": {
   "codemirror_mode": {
    "name": "ipython",
    "version": 3
   },
   "file_extension": ".py",
   "mimetype": "text/x-python",
   "name": "python",
   "nbconvert_exporter": "python",
   "pygments_lexer": "ipython3",
   "version": "3.8.5"
  }
 },
 "nbformat": 4,
 "nbformat_minor": 4
}
